{
 "cells": [
  {
   "cell_type": "code",
   "execution_count": 4,
   "id": "e1a37b14",
   "metadata": {},
   "outputs": [
    {
     "data": {
      "text/html": [
       "\n",
       "<style>\n",
       ".prompt{display: none}\n",
       ".prompt_container{display: none;}\n",
       ".container{width: auto !important;}\n",
       ".btn { font-size: 9px; }\n",
       "#menubar { max-height: 2em; overflow: hidden;}\n",
       "</style>\n"
      ],
      "text/plain": [
       "<IPython.core.display.HTML object>"
      ]
     },
     "execution_count": 4,
     "metadata": {},
     "output_type": "execute_result"
    }
   ],
   "source": [
    "# from IPython.core.display import HTML\n",
    "# HTML(\"\"\"\n",
    "# <style>\n",
    "# .prompt{display: none}\n",
    "# .prompt_container{display: none;}\n",
    "# .container{width: auto !important;}\n",
    "# .btn { font-size: 9px; }\n",
    "# #menubar { max-height: 2em; overflow: hidden;}\n",
    "# </style>\n",
    "# \"\"\")"
   ]
  },
  {
   "cell_type": "markdown",
   "id": "a68f4a25",
   "metadata": {},
   "source": [
    "# Your mission\n",
    "\n",
    "1. **Eat a snack!!** Muffins are for you!!! I don't know what they are except the yellow ones are corn muffins which don't really seem like a breakfast dessert kind of muffin\n",
    "1. Do the _paper_ Do Now (there's **NO BACK!**)\n",
    "2. Do The _digital_ Do Now\n",
    "3. Download and unzip `06-classwork.zip` from Canvas\n",
    "4. Slack!!!\n",
    "5. GET HYPED!!!!!!"
   ]
  },
  {
   "cell_type": "markdown",
   "id": "c6052706",
   "metadata": {},
   "source": [
    "Answer the following questions using this data found at the completely fake API endpoint https://api.clothes.com/api/items. Assume it’s saved as data.\n",
    "\n",
    "```\n",
    "{\n",
    "    “count”: 760,\n",
    "    “results”: {\n",
    "        “items”: [\n",
    "            { “size”: “48”, “price”: 19.90, “type”: “shoe” },\n",
    "            { “size”: “L”, “price”: 100, “type”: “shirt” },\n",
    "            { “size”: “S”, “price”: 75, “type”: “shirt” },\n",
    "            { “size”: ”32”, “price”: 203.76, “type”: “pant” },\n",
    "            { “size”: null, “price”: 22.30, “type”: “shoe” },\n",
    "        ]\n",
    "    }\n",
    "}\n",
    "```"
   ]
  },
  {
   "cell_type": "markdown",
   "id": "9a2efd7d",
   "metadata": {},
   "source": [
    "1. Write code to get the number of items returned by this particular API request."
   ]
  },
  {
   "cell_type": "code",
   "execution_count": null,
   "id": "a8332b7b",
   "metadata": {},
   "outputs": [],
   "source": [
    "len(data[\"results\"][\"items\"])"
   ]
  },
  {
   "cell_type": "markdown",
   "id": "80642a03",
   "metadata": {},
   "source": [
    "2. The API result implies there are 760 items total, but from question 1 we only see five of them. What might we need to do to get more? Give two suggestions.\n"
   ]
  },
  {
   "cell_type": "code",
   "execution_count": null,
   "id": "9a1c93f8",
   "metadata": {},
   "outputs": [],
   "source": [
    "# Approach One:\n",
    "# ?limit=20, ?limit=200, ?limit=999999999\n",
    "# https://api.clothes.com/api/items?limit=200\n",
    "# Approach Two:\n",
    "# pagination\n",
    "# https://api.clothes.com/api/items?page=2\n",
    "# https://api.clothes.com/api/items?page=3\n"
   ]
  },
  {
   "cell_type": "markdown",
   "id": "52251e06",
   "metadata": {},
   "source": [
    "3. Write code to total the price from all of the provided items.\n"
   ]
  },
  {
   "cell_type": "code",
   "execution_count": null,
   "id": "0985904f",
   "metadata": {},
   "outputs": [],
   "source": [
    "total = 0\n",
    "for item in data[\"results\"][\"items\"]:\n",
    "    print(\"-----\")\n",
    "    print(item['price'])\n",
    "    total = total + item['price']\n",
    "total"
   ]
  },
  {
   "cell_type": "code",
   "execution_count": null,
   "id": "a2cd9a16",
   "metadata": {},
   "outputs": [],
   "source": [
    "# I WISH I HAD THIS!!!!!\n",
    "prices = [19.90, 100, 23, 23.33]\n",
    "sum(prices)"
   ]
  },
  {
   "cell_type": "code",
   "execution_count": null,
   "id": "937fb2bc",
   "metadata": {},
   "outputs": [],
   "source": [
    "sum([item['price'] for item in data[\"results\"][\"items\"]])"
   ]
  },
  {
   "cell_type": "code",
   "execution_count": null,
   "id": "c5acfaab",
   "metadata": {},
   "outputs": [],
   "source": [
    "# df['price'].sum()"
   ]
  }
 ],
 "metadata": {
  "kernelspec": {
   "display_name": "Python 3 (ipykernel)",
   "language": "python",
   "name": "python3"
  },
  "language_info": {
   "codemirror_mode": {
    "name": "ipython",
    "version": 3
   },
   "file_extension": ".py",
   "mimetype": "text/x-python",
   "name": "python",
   "nbconvert_exporter": "python",
   "pygments_lexer": "ipython3",
   "version": "3.10.13"
  }
 },
 "nbformat": 4,
 "nbformat_minor": 5
}
