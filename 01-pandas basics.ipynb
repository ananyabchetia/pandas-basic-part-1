{
 "cells": [
  {
   "cell_type": "code",
   "execution_count": 1,
   "id": "6a11f842-0676-43f8-a4de-619ae21ab235",
   "metadata": {},
   "outputs": [
    {
     "data": {
      "text/html": [
       "\n",
       "<style>\n",
       ".prompt{display: none}\n",
       ".prompt_container{display: none;}\n",
       ".container{width: auto !important;}\n",
       ".btn { font-size: 9px; }\n",
       "#menubar { max-height: 2em; overflow: hidden;}\n",
       "</style>\n"
      ],
      "text/plain": [
       "<IPython.core.display.HTML object>"
      ]
     },
     "execution_count": 1,
     "metadata": {},
     "output_type": "execute_result"
    }
   ],
   "source": [
    "# from IPython.core.display import HTML\n",
    "# HTML(\"\"\"\n",
    "# <style>\n",
    "# .prompt{display: none}\n",
    "# .prompt_container{display: none;}\n",
    "# .container{width: auto !important;}\n",
    "# .btn { font-size: 9px; }\n",
    "# #menubar { max-height: 2em; overflow: hidden;}\n",
    "# </style>\n",
    "# \"\"\")"
   ]
  },
  {
   "cell_type": "markdown",
   "id": "c8e1cb81-6b9e-4e41-abfb-03bb410afbd9",
   "metadata": {},
   "source": [
    "# Pandas basics"
   ]
  },
  {
   "cell_type": "code",
   "execution_count": 2,
   "id": "8f20a910",
   "metadata": {},
   "outputs": [
    {
     "name": "stdout",
     "output_type": "stream",
     "text": [
      "01-pandas basics.ipynb    Happy November 11th.ipynb countries.csv\r\n",
      "06-classwork.zip          continent_facts.csv       \u001b[34mencoding\u001b[m\u001b[m\r\n"
     ]
    }
   ],
   "source": [
    "!ls"
   ]
  },
  {
   "cell_type": "code",
   "execution_count": 8,
   "id": "802fdd91",
   "metadata": {},
   "outputs": [
    {
     "name": "stdout",
     "output_type": "stream",
     "text": [
      "\r\n",
      "\u001b[1m[\u001b[0m\u001b[34;49mnotice\u001b[0m\u001b[1;39;49m]\u001b[0m\u001b[39;49m A new release of pip is available: \u001b[0m\u001b[31;49m23.0.1\u001b[0m\u001b[39;49m -> \u001b[0m\u001b[32;49m24.3.1\u001b[0m\r\n",
      "\u001b[1m[\u001b[0m\u001b[34;49mnotice\u001b[0m\u001b[1;39;49m]\u001b[0m\u001b[39;49m To update, run: \u001b[0m\u001b[32;49mpip install --upgrade pip\u001b[0m\r\n"
     ]
    }
   ],
   "source": [
    "!pip install --quiet pandas"
   ]
  },
  {
   "cell_type": "code",
   "execution_count": 209,
   "id": "92232025",
   "metadata": {},
   "outputs": [],
   "source": [
    "import pandas as pd\n",
    "\n",
    "# this is a dataframe\n",
    "df = pd.read_csv(\"countries.csv\")"
   ]
  },
  {
   "cell_type": "code",
   "execution_count": 210,
   "id": "f6e913df",
   "metadata": {},
   "outputs": [
    {
     "data": {
      "text/plain": [
       "(188, 5)"
      ]
     },
     "execution_count": 210,
     "metadata": {},
     "output_type": "execute_result"
    }
   ],
   "source": [
    "df.shape"
   ]
  },
  {
   "cell_type": "code",
   "execution_count": 211,
   "id": "d34ad722",
   "metadata": {},
   "outputs": [
    {
     "data": {
      "text/html": [
       "<div>\n",
       "<style scoped>\n",
       "    .dataframe tbody tr th:only-of-type {\n",
       "        vertical-align: middle;\n",
       "    }\n",
       "\n",
       "    .dataframe tbody tr th {\n",
       "        vertical-align: top;\n",
       "    }\n",
       "\n",
       "    .dataframe thead th {\n",
       "        text-align: right;\n",
       "    }\n",
       "</style>\n",
       "<table border=\"1\" class=\"dataframe\">\n",
       "  <thead>\n",
       "    <tr style=\"text-align: right;\">\n",
       "      <th></th>\n",
       "      <th>country</th>\n",
       "      <th>continent</th>\n",
       "      <th>life_expectancy</th>\n",
       "      <th>population</th>\n",
       "      <th>gdp</th>\n",
       "    </tr>\n",
       "  </thead>\n",
       "  <tbody>\n",
       "    <tr>\n",
       "      <th>0</th>\n",
       "      <td>Afghanistan</td>\n",
       "      <td>Asia</td>\n",
       "      <td>54.863</td>\n",
       "      <td>22856302</td>\n",
       "      <td>15153728226</td>\n",
       "    </tr>\n",
       "    <tr>\n",
       "      <th>1</th>\n",
       "      <td>Albania</td>\n",
       "      <td>Europe</td>\n",
       "      <td>74.200</td>\n",
       "      <td>3071856</td>\n",
       "      <td>12886435920</td>\n",
       "    </tr>\n",
       "    <tr>\n",
       "      <th>2</th>\n",
       "      <td>Algeria</td>\n",
       "      <td>Africa</td>\n",
       "      <td>68.963</td>\n",
       "      <td>30533827</td>\n",
       "      <td>155661450046</td>\n",
       "    </tr>\n",
       "    <tr>\n",
       "      <th>3</th>\n",
       "      <td>Angola</td>\n",
       "      <td>Africa</td>\n",
       "      <td>45.234</td>\n",
       "      <td>13926373</td>\n",
       "      <td>34063908358</td>\n",
       "    </tr>\n",
       "    <tr>\n",
       "      <th>4</th>\n",
       "      <td>Antigua and Barbuda</td>\n",
       "      <td>N. America</td>\n",
       "      <td>73.544</td>\n",
       "      <td>77656</td>\n",
       "      <td>989182128</td>\n",
       "    </tr>\n",
       "  </tbody>\n",
       "</table>\n",
       "</div>"
      ],
      "text/plain": [
       "               country   continent  life_expectancy  population           gdp\n",
       "0          Afghanistan        Asia           54.863    22856302   15153728226\n",
       "1              Albania      Europe           74.200     3071856   12886435920\n",
       "2              Algeria      Africa           68.963    30533827  155661450046\n",
       "3               Angola      Africa           45.234    13926373   34063908358\n",
       "4  Antigua and Barbuda  N. America           73.544       77656     989182128"
      ]
     },
     "execution_count": 211,
     "metadata": {},
     "output_type": "execute_result"
    }
   ],
   "source": [
    "df.head()"
   ]
  },
  {
   "cell_type": "code",
   "execution_count": 212,
   "id": "8f1881ac",
   "metadata": {},
   "outputs": [
    {
     "data": {
      "text/html": [
       "<div>\n",
       "<style scoped>\n",
       "    .dataframe tbody tr th:only-of-type {\n",
       "        vertical-align: middle;\n",
       "    }\n",
       "\n",
       "    .dataframe tbody tr th {\n",
       "        vertical-align: top;\n",
       "    }\n",
       "\n",
       "    .dataframe thead th {\n",
       "        text-align: right;\n",
       "    }\n",
       "</style>\n",
       "<table border=\"1\" class=\"dataframe\">\n",
       "  <thead>\n",
       "    <tr style=\"text-align: right;\">\n",
       "      <th></th>\n",
       "      <th>country</th>\n",
       "      <th>continent</th>\n",
       "      <th>life_expectancy</th>\n",
       "      <th>population</th>\n",
       "      <th>gdp</th>\n",
       "    </tr>\n",
       "  </thead>\n",
       "  <tbody>\n",
       "    <tr>\n",
       "      <th>183</th>\n",
       "      <td>Vietnam</td>\n",
       "      <td>Asia</td>\n",
       "      <td>73.777</td>\n",
       "      <td>78758010</td>\n",
       "      <td>124201381770</td>\n",
       "    </tr>\n",
       "    <tr>\n",
       "      <th>184</th>\n",
       "      <td>West Bank and Gaza</td>\n",
       "      <td>Asia</td>\n",
       "      <td>70.929</td>\n",
       "      <td>3198560</td>\n",
       "      <td>24264276160</td>\n",
       "    </tr>\n",
       "    <tr>\n",
       "      <th>185</th>\n",
       "      <td>Yemen, Rep.</td>\n",
       "      <td>Asia</td>\n",
       "      <td>60.404</td>\n",
       "      <td>17723186</td>\n",
       "      <td>39292303362</td>\n",
       "    </tr>\n",
       "    <tr>\n",
       "      <th>186</th>\n",
       "      <td>Zambia</td>\n",
       "      <td>Africa</td>\n",
       "      <td>41.802</td>\n",
       "      <td>10201562</td>\n",
       "      <td>10558616670</td>\n",
       "    </tr>\n",
       "    <tr>\n",
       "      <th>187</th>\n",
       "      <td>Zimbabwe</td>\n",
       "      <td>Africa</td>\n",
       "      <td>43.976</td>\n",
       "      <td>12509477</td>\n",
       "      <td>9319560365</td>\n",
       "    </tr>\n",
       "  </tbody>\n",
       "</table>\n",
       "</div>"
      ],
      "text/plain": [
       "                country continent  life_expectancy  population           gdp\n",
       "183             Vietnam      Asia           73.777    78758010  124201381770\n",
       "184  West Bank and Gaza      Asia           70.929     3198560   24264276160\n",
       "185         Yemen, Rep.      Asia           60.404    17723186   39292303362\n",
       "186              Zambia    Africa           41.802    10201562   10558616670\n",
       "187            Zimbabwe    Africa           43.976    12509477    9319560365"
      ]
     },
     "execution_count": 212,
     "metadata": {},
     "output_type": "execute_result"
    }
   ],
   "source": [
    "# show me the LAST five\n",
    "df.tail()"
   ]
  },
  {
   "cell_type": "code",
   "execution_count": 213,
   "id": "fd95493a",
   "metadata": {},
   "outputs": [],
   "source": [
    "num = 5"
   ]
  },
  {
   "cell_type": "code",
   "execution_count": 214,
   "id": "679bc022",
   "metadata": {},
   "outputs": [
    {
     "data": {
      "text/plain": [
       "5"
      ]
     },
     "execution_count": 214,
     "metadata": {},
     "output_type": "execute_result"
    }
   ],
   "source": [
    "num"
   ]
  },
  {
   "cell_type": "code",
   "execution_count": null,
   "id": "12676a27-e555-496d-8d8d-07075d070519",
   "metadata": {},
   "outputs": [],
   "source": [
    "df[df[''] == 'Africa']"
   ]
  },
  {
   "cell_type": "markdown",
   "id": "beb17406",
   "metadata": {},
   "source": [
    "# Questions for the dataset\n",
    "\n",
    "Unordered list:\n",
    "\n",
    "- This is one thing\n",
    "- This is another thing\n",
    "- This is a third thing\n",
    "- this is yet another thing\n",
    "\n",
    "Ordered list:\n",
    "\n",
    "1. This is one thing\n",
    "1. This is another thing\n",
    "1. This is another thing\n",
    "1. This is another thing\n",
    "1. This is one thing\n",
    "1. This is one thing"
   ]
  },
  {
   "cell_type": "markdown",
   "id": "86ddaddb",
   "metadata": {},
   "source": [
    "### Which country has the highest life expectancy?"
   ]
  },
  {
   "cell_type": "code",
   "execution_count": 215,
   "id": "d70cec44",
   "metadata": {},
   "outputs": [
    {
     "data": {
      "text/html": [
       "<div>\n",
       "<style scoped>\n",
       "    .dataframe tbody tr th:only-of-type {\n",
       "        vertical-align: middle;\n",
       "    }\n",
       "\n",
       "    .dataframe tbody tr th {\n",
       "        vertical-align: top;\n",
       "    }\n",
       "\n",
       "    .dataframe thead th {\n",
       "        text-align: right;\n",
       "    }\n",
       "</style>\n",
       "<table border=\"1\" class=\"dataframe\">\n",
       "  <thead>\n",
       "    <tr style=\"text-align: right;\">\n",
       "      <th></th>\n",
       "      <th>country</th>\n",
       "      <th>continent</th>\n",
       "      <th>life_expectancy</th>\n",
       "      <th>population</th>\n",
       "      <th>gdp</th>\n",
       "    </tr>\n",
       "  </thead>\n",
       "  <tbody>\n",
       "    <tr>\n",
       "      <th>0</th>\n",
       "      <td>Afghanistan</td>\n",
       "      <td>Asia</td>\n",
       "      <td>54.863</td>\n",
       "      <td>22856302</td>\n",
       "      <td>15153728226</td>\n",
       "    </tr>\n",
       "    <tr>\n",
       "      <th>1</th>\n",
       "      <td>Albania</td>\n",
       "      <td>Europe</td>\n",
       "      <td>74.200</td>\n",
       "      <td>3071856</td>\n",
       "      <td>12886435920</td>\n",
       "    </tr>\n",
       "  </tbody>\n",
       "</table>\n",
       "</div>"
      ],
      "text/plain": [
       "       country continent  life_expectancy  population          gdp\n",
       "0  Afghanistan      Asia           54.863    22856302  15153728226\n",
       "1      Albania    Europe           74.200     3071856  12886435920"
      ]
     },
     "execution_count": 215,
     "metadata": {},
     "output_type": "execute_result"
    }
   ],
   "source": [
    "df.head(2)"
   ]
  },
  {
   "cell_type": "code",
   "execution_count": 216,
   "id": "99ac5e25",
   "metadata": {},
   "outputs": [
    {
     "data": {
      "text/plain": [
       "81.35"
      ]
     },
     "execution_count": 216,
     "metadata": {},
     "output_type": "execute_result"
    }
   ],
   "source": [
    "# df.head()\n",
    "# df.tail()\n",
    "df['life_expectancy'].max()"
   ]
  },
  {
   "cell_type": "code",
   "execution_count": 217,
   "id": "6830670a",
   "metadata": {},
   "outputs": [
    {
     "data": {
      "text/plain": [
       "country             object\n",
       "continent           object\n",
       "life_expectancy    float64\n",
       "population           int64\n",
       "gdp                  int64\n",
       "dtype: object"
      ]
     },
     "execution_count": 217,
     "metadata": {},
     "output_type": "execute_result"
    }
   ],
   "source": [
    "df.dtypes"
   ]
  },
  {
   "cell_type": "code",
   "execution_count": 218,
   "id": "b249c128",
   "metadata": {},
   "outputs": [
    {
     "name": "stdout",
     "output_type": "stream",
     "text": [
      "<class 'pandas.core.frame.DataFrame'>\n",
      "RangeIndex: 188 entries, 0 to 187\n",
      "Data columns (total 5 columns):\n",
      " #   Column           Non-Null Count  Dtype  \n",
      "---  ------           --------------  -----  \n",
      " 0   country          188 non-null    object \n",
      " 1   continent        188 non-null    object \n",
      " 2   life_expectancy  188 non-null    float64\n",
      " 3   population       188 non-null    int64  \n",
      " 4   gdp              188 non-null    int64  \n",
      "dtypes: float64(1), int64(2), object(2)\n",
      "memory usage: 7.5+ KB\n"
     ]
    }
   ],
   "source": [
    "df.info()"
   ]
  },
  {
   "cell_type": "code",
   "execution_count": 219,
   "id": "0a49dd5c",
   "metadata": {},
   "outputs": [],
   "source": [
    "# pandas is built on numpy\n",
    "# numpy = numerical python\n",
    "# import numpy as np\n",
    "\n",
    "# np.float64 = float\n",
    "# np\n",
    "# float = number with decimal\n",
    "# 64 = 64-bit (???) who cares\n",
    "# int64 = integer\n",
    "# object = string"
   ]
  },
  {
   "cell_type": "code",
   "execution_count": 220,
   "id": "a1d27372",
   "metadata": {},
   "outputs": [
    {
     "data": {
      "text/plain": [
       "81.35"
      ]
     },
     "execution_count": 220,
     "metadata": {},
     "output_type": "execute_result"
    }
   ],
   "source": [
    "# df.head()\n",
    "# df.tail()\n",
    "df['life_expectancy'].max()"
   ]
  },
  {
   "cell_type": "code",
   "execution_count": 221,
   "id": "dc204e6e",
   "metadata": {},
   "outputs": [
    {
     "data": {
      "text/html": [
       "<div>\n",
       "<style scoped>\n",
       "    .dataframe tbody tr th:only-of-type {\n",
       "        vertical-align: middle;\n",
       "    }\n",
       "\n",
       "    .dataframe tbody tr th {\n",
       "        vertical-align: top;\n",
       "    }\n",
       "\n",
       "    .dataframe thead th {\n",
       "        text-align: right;\n",
       "    }\n",
       "</style>\n",
       "<table border=\"1\" class=\"dataframe\">\n",
       "  <thead>\n",
       "    <tr style=\"text-align: right;\">\n",
       "      <th></th>\n",
       "      <th>country</th>\n",
       "      <th>continent</th>\n",
       "      <th>life_expectancy</th>\n",
       "      <th>population</th>\n",
       "      <th>gdp</th>\n",
       "    </tr>\n",
       "  </thead>\n",
       "  <tbody>\n",
       "    <tr>\n",
       "      <th>83</th>\n",
       "      <td>Japan</td>\n",
       "      <td>Asia</td>\n",
       "      <td>81.350</td>\n",
       "      <td>125720310</td>\n",
       "      <td>3590446333290</td>\n",
       "    </tr>\n",
       "    <tr>\n",
       "      <th>72</th>\n",
       "      <td>Hong Kong, China</td>\n",
       "      <td>Asia</td>\n",
       "      <td>80.361</td>\n",
       "      <td>6783317</td>\n",
       "      <td>203309577124</td>\n",
       "    </tr>\n",
       "    <tr>\n",
       "      <th>161</th>\n",
       "      <td>Switzerland</td>\n",
       "      <td>Europe</td>\n",
       "      <td>79.990</td>\n",
       "      <td>7167908</td>\n",
       "      <td>246475684488</td>\n",
       "    </tr>\n",
       "    <tr>\n",
       "      <th>7</th>\n",
       "      <td>Australia</td>\n",
       "      <td>Oceania</td>\n",
       "      <td>79.930</td>\n",
       "      <td>19164351</td>\n",
       "      <td>560384787591</td>\n",
       "    </tr>\n",
       "    <tr>\n",
       "      <th>160</th>\n",
       "      <td>Sweden</td>\n",
       "      <td>Europe</td>\n",
       "      <td>79.840</td>\n",
       "      <td>8860153</td>\n",
       "      <td>253754781920</td>\n",
       "    </tr>\n",
       "    <tr>\n",
       "      <th>...</th>\n",
       "      <td>...</td>\n",
       "      <td>...</td>\n",
       "      <td>...</td>\n",
       "      <td>...</td>\n",
       "      <td>...</td>\n",
       "    </tr>\n",
       "    <tr>\n",
       "      <th>3</th>\n",
       "      <td>Angola</td>\n",
       "      <td>Africa</td>\n",
       "      <td>45.234</td>\n",
       "      <td>13926373</td>\n",
       "      <td>34063908358</td>\n",
       "    </tr>\n",
       "    <tr>\n",
       "      <th>187</th>\n",
       "      <td>Zimbabwe</td>\n",
       "      <td>Africa</td>\n",
       "      <td>43.976</td>\n",
       "      <td>12509477</td>\n",
       "      <td>9319560365</td>\n",
       "    </tr>\n",
       "    <tr>\n",
       "      <th>31</th>\n",
       "      <td>Central African Rep.</td>\n",
       "      <td>Africa</td>\n",
       "      <td>43.727</td>\n",
       "      <td>3701607</td>\n",
       "      <td>2820624534</td>\n",
       "    </tr>\n",
       "    <tr>\n",
       "      <th>186</th>\n",
       "      <td>Zambia</td>\n",
       "      <td>Africa</td>\n",
       "      <td>41.802</td>\n",
       "      <td>10201562</td>\n",
       "      <td>10558616670</td>\n",
       "    </tr>\n",
       "    <tr>\n",
       "      <th>147</th>\n",
       "      <td>Sierra Leone</td>\n",
       "      <td>Africa</td>\n",
       "      <td>38.123</td>\n",
       "      <td>4143115</td>\n",
       "      <td>2141990455</td>\n",
       "    </tr>\n",
       "  </tbody>\n",
       "</table>\n",
       "<p>188 rows × 5 columns</p>\n",
       "</div>"
      ],
      "text/plain": [
       "                  country continent  life_expectancy  population  \\\n",
       "83                  Japan      Asia           81.350   125720310   \n",
       "72       Hong Kong, China      Asia           80.361     6783317   \n",
       "161           Switzerland    Europe           79.990     7167908   \n",
       "7               Australia   Oceania           79.930    19164351   \n",
       "160                Sweden    Europe           79.840     8860153   \n",
       "..                    ...       ...              ...         ...   \n",
       "3                  Angola    Africa           45.234    13926373   \n",
       "187              Zimbabwe    Africa           43.976    12509477   \n",
       "31   Central African Rep.    Africa           43.727     3701607   \n",
       "186                Zambia    Africa           41.802    10201562   \n",
       "147          Sierra Leone    Africa           38.123     4143115   \n",
       "\n",
       "               gdp  \n",
       "83   3590446333290  \n",
       "72    203309577124  \n",
       "161   246475684488  \n",
       "7     560384787591  \n",
       "160   253754781920  \n",
       "..             ...  \n",
       "3      34063908358  \n",
       "187     9319560365  \n",
       "31      2820624534  \n",
       "186    10558616670  \n",
       "147     2141990455  \n",
       "\n",
       "[188 rows x 5 columns]"
      ]
     },
     "execution_count": 221,
     "metadata": {},
     "output_type": "execute_result"
    }
   ],
   "source": [
    "# df.sort_values('life_expectancy')\n",
    "# sort descending\n",
    "df.sort_values(by='life_expectancy', ascending=False)"
   ]
  },
  {
   "cell_type": "code",
   "execution_count": 222,
   "id": "dca08dd5",
   "metadata": {},
   "outputs": [
    {
     "data": {
      "text/html": [
       "<div>\n",
       "<style scoped>\n",
       "    .dataframe tbody tr th:only-of-type {\n",
       "        vertical-align: middle;\n",
       "    }\n",
       "\n",
       "    .dataframe tbody tr th {\n",
       "        vertical-align: top;\n",
       "    }\n",
       "\n",
       "    .dataframe thead th {\n",
       "        text-align: right;\n",
       "    }\n",
       "</style>\n",
       "<table border=\"1\" class=\"dataframe\">\n",
       "  <thead>\n",
       "    <tr style=\"text-align: right;\">\n",
       "      <th></th>\n",
       "      <th>country</th>\n",
       "      <th>continent</th>\n",
       "      <th>life_expectancy</th>\n",
       "      <th>population</th>\n",
       "      <th>gdp</th>\n",
       "    </tr>\n",
       "  </thead>\n",
       "  <tbody>\n",
       "    <tr>\n",
       "      <th>83</th>\n",
       "      <td>Japan</td>\n",
       "      <td>Asia</td>\n",
       "      <td>81.350</td>\n",
       "      <td>125720310</td>\n",
       "      <td>3590446333290</td>\n",
       "    </tr>\n",
       "    <tr>\n",
       "      <th>72</th>\n",
       "      <td>Hong Kong, China</td>\n",
       "      <td>Asia</td>\n",
       "      <td>80.361</td>\n",
       "      <td>6783317</td>\n",
       "      <td>203309577124</td>\n",
       "    </tr>\n",
       "    <tr>\n",
       "      <th>161</th>\n",
       "      <td>Switzerland</td>\n",
       "      <td>Europe</td>\n",
       "      <td>79.990</td>\n",
       "      <td>7167908</td>\n",
       "      <td>246475684488</td>\n",
       "    </tr>\n",
       "    <tr>\n",
       "      <th>7</th>\n",
       "      <td>Australia</td>\n",
       "      <td>Oceania</td>\n",
       "      <td>79.930</td>\n",
       "      <td>19164351</td>\n",
       "      <td>560384787591</td>\n",
       "    </tr>\n",
       "    <tr>\n",
       "      <th>160</th>\n",
       "      <td>Sweden</td>\n",
       "      <td>Europe</td>\n",
       "      <td>79.840</td>\n",
       "      <td>8860153</td>\n",
       "      <td>253754781920</td>\n",
       "    </tr>\n",
       "  </tbody>\n",
       "</table>\n",
       "</div>"
      ],
      "text/plain": [
       "              country continent  life_expectancy  population            gdp\n",
       "83              Japan      Asia           81.350   125720310  3590446333290\n",
       "72   Hong Kong, China      Asia           80.361     6783317   203309577124\n",
       "161       Switzerland    Europe           79.990     7167908   246475684488\n",
       "7           Australia   Oceania           79.930    19164351   560384787591\n",
       "160            Sweden    Europe           79.840     8860153   253754781920"
      ]
     },
     "execution_count": 222,
     "metadata": {},
     "output_type": "execute_result"
    }
   ],
   "source": [
    "df.sort_values(by='life_expectancy', ascending=False).head()"
   ]
  },
  {
   "cell_type": "code",
   "execution_count": 223,
   "id": "f89d7154",
   "metadata": {},
   "outputs": [
    {
     "data": {
      "text/html": [
       "<div>\n",
       "<style scoped>\n",
       "    .dataframe tbody tr th:only-of-type {\n",
       "        vertical-align: middle;\n",
       "    }\n",
       "\n",
       "    .dataframe tbody tr th {\n",
       "        vertical-align: top;\n",
       "    }\n",
       "\n",
       "    .dataframe thead th {\n",
       "        text-align: right;\n",
       "    }\n",
       "</style>\n",
       "<table border=\"1\" class=\"dataframe\">\n",
       "  <thead>\n",
       "    <tr style=\"text-align: right;\">\n",
       "      <th></th>\n",
       "      <th>country</th>\n",
       "      <th>continent</th>\n",
       "      <th>life_expectancy</th>\n",
       "      <th>population</th>\n",
       "      <th>gdp</th>\n",
       "    </tr>\n",
       "  </thead>\n",
       "  <tbody>\n",
       "    <tr>\n",
       "      <th>83</th>\n",
       "      <td>Japan</td>\n",
       "      <td>Asia</td>\n",
       "      <td>81.35</td>\n",
       "      <td>125720310</td>\n",
       "      <td>3590446333290</td>\n",
       "    </tr>\n",
       "  </tbody>\n",
       "</table>\n",
       "</div>"
      ],
      "text/plain": [
       "   country continent  life_expectancy  population            gdp\n",
       "83   Japan      Asia            81.35   125720310  3590446333290"
      ]
     },
     "execution_count": 223,
     "metadata": {},
     "output_type": "execute_result"
    }
   ],
   "source": [
    "(\n",
    "df\n",
    ".sort_values(by='life_expectancy', ascending=False)\n",
    ".head(1)\n",
    ")"
   ]
  },
  {
   "cell_type": "code",
   "execution_count": 224,
   "id": "bab9cb4b",
   "metadata": {},
   "outputs": [
    {
     "data": {
      "text/html": [
       "<div>\n",
       "<style scoped>\n",
       "    .dataframe tbody tr th:only-of-type {\n",
       "        vertical-align: middle;\n",
       "    }\n",
       "\n",
       "    .dataframe tbody tr th {\n",
       "        vertical-align: top;\n",
       "    }\n",
       "\n",
       "    .dataframe thead th {\n",
       "        text-align: right;\n",
       "    }\n",
       "</style>\n",
       "<table border=\"1\" class=\"dataframe\">\n",
       "  <thead>\n",
       "    <tr style=\"text-align: right;\">\n",
       "      <th></th>\n",
       "      <th>country</th>\n",
       "      <th>continent</th>\n",
       "      <th>life_expectancy</th>\n",
       "      <th>population</th>\n",
       "      <th>gdp</th>\n",
       "    </tr>\n",
       "  </thead>\n",
       "  <tbody>\n",
       "    <tr>\n",
       "      <th>0</th>\n",
       "      <td>Afghanistan</td>\n",
       "      <td>Asia</td>\n",
       "      <td>54.863</td>\n",
       "      <td>22856302</td>\n",
       "      <td>15153728226</td>\n",
       "    </tr>\n",
       "    <tr>\n",
       "      <th>1</th>\n",
       "      <td>Albania</td>\n",
       "      <td>Europe</td>\n",
       "      <td>74.200</td>\n",
       "      <td>3071856</td>\n",
       "      <td>12886435920</td>\n",
       "    </tr>\n",
       "    <tr>\n",
       "      <th>2</th>\n",
       "      <td>Algeria</td>\n",
       "      <td>Africa</td>\n",
       "      <td>68.963</td>\n",
       "      <td>30533827</td>\n",
       "      <td>155661450046</td>\n",
       "    </tr>\n",
       "    <tr>\n",
       "      <th>3</th>\n",
       "      <td>Angola</td>\n",
       "      <td>Africa</td>\n",
       "      <td>45.234</td>\n",
       "      <td>13926373</td>\n",
       "      <td>34063908358</td>\n",
       "    </tr>\n",
       "    <tr>\n",
       "      <th>4</th>\n",
       "      <td>Antigua and Barbuda</td>\n",
       "      <td>N. America</td>\n",
       "      <td>73.544</td>\n",
       "      <td>77656</td>\n",
       "      <td>989182128</td>\n",
       "    </tr>\n",
       "  </tbody>\n",
       "</table>\n",
       "</div>"
      ],
      "text/plain": [
       "               country   continent  life_expectancy  population           gdp\n",
       "0          Afghanistan        Asia           54.863    22856302   15153728226\n",
       "1              Albania      Europe           74.200     3071856   12886435920\n",
       "2              Algeria      Africa           68.963    30533827  155661450046\n",
       "3               Angola      Africa           45.234    13926373   34063908358\n",
       "4  Antigua and Barbuda  N. America           73.544       77656     989182128"
      ]
     },
     "execution_count": 224,
     "metadata": {},
     "output_type": "execute_result"
    }
   ],
   "source": [
    "df.head()"
   ]
  },
  {
   "cell_type": "code",
   "execution_count": 225,
   "id": "3395de5a",
   "metadata": {},
   "outputs": [
    {
     "name": "stdout",
     "output_type": "stream",
     "text": [
      "<class 'pandas.core.frame.DataFrame'>\n",
      "RangeIndex: 188 entries, 0 to 187\n",
      "Data columns (total 5 columns):\n",
      " #   Column           Non-Null Count  Dtype  \n",
      "---  ------           --------------  -----  \n",
      " 0   country          188 non-null    object \n",
      " 1   continent        188 non-null    object \n",
      " 2   life_expectancy  188 non-null    float64\n",
      " 3   population       188 non-null    object \n",
      " 4   gdp              188 non-null    int64  \n",
      "dtypes: float64(1), int64(1), object(3)\n",
      "memory usage: 7.5+ KB\n"
     ]
    }
   ],
   "source": [
    "df = pd.read_csv(\"countries.csv\", dtype={'population': 'str'})\n",
    "df.info()"
   ]
  },
  {
   "cell_type": "code",
   "execution_count": 226,
   "id": "9b649405",
   "metadata": {},
   "outputs": [
    {
     "data": {
      "text/html": [
       "<div>\n",
       "<style scoped>\n",
       "    .dataframe tbody tr th:only-of-type {\n",
       "        vertical-align: middle;\n",
       "    }\n",
       "\n",
       "    .dataframe tbody tr th {\n",
       "        vertical-align: top;\n",
       "    }\n",
       "\n",
       "    .dataframe thead th {\n",
       "        text-align: right;\n",
       "    }\n",
       "</style>\n",
       "<table border=\"1\" class=\"dataframe\">\n",
       "  <thead>\n",
       "    <tr style=\"text-align: right;\">\n",
       "      <th></th>\n",
       "      <th>country</th>\n",
       "      <th>continent</th>\n",
       "      <th>life_expectancy</th>\n",
       "      <th>population</th>\n",
       "      <th>gdp</th>\n",
       "    </tr>\n",
       "  </thead>\n",
       "  <tbody>\n",
       "    <tr>\n",
       "      <th>110</th>\n",
       "      <td>Mexico</td>\n",
       "      <td>N. America</td>\n",
       "      <td>74.380</td>\n",
       "      <td>99959594</td>\n",
       "      <td>1088959817036</td>\n",
       "    </tr>\n",
       "    <tr>\n",
       "      <th>169</th>\n",
       "      <td>Tonga</td>\n",
       "      <td>Oceania</td>\n",
       "      <td>70.810</td>\n",
       "      <td>97935</td>\n",
       "      <td>478510410</td>\n",
       "    </tr>\n",
       "    <tr>\n",
       "      <th>144</th>\n",
       "      <td>Senegal</td>\n",
       "      <td>Africa</td>\n",
       "      <td>57.817</td>\n",
       "      <td>9505862</td>\n",
       "      <td>14363357482</td>\n",
       "    </tr>\n",
       "    <tr>\n",
       "      <th>171</th>\n",
       "      <td>Tunisia</td>\n",
       "      <td>Africa</td>\n",
       "      <td>73.159</td>\n",
       "      <td>9456117</td>\n",
       "      <td>51819521160</td>\n",
       "    </tr>\n",
       "    <tr>\n",
       "      <th>43</th>\n",
       "      <td>Cyprus</td>\n",
       "      <td>Europe</td>\n",
       "      <td>78.011</td>\n",
       "      <td>943294</td>\n",
       "      <td>21526912374</td>\n",
       "    </tr>\n",
       "  </tbody>\n",
       "</table>\n",
       "</div>"
      ],
      "text/plain": [
       "     country   continent  life_expectancy population            gdp\n",
       "110   Mexico  N. America           74.380   99959594  1088959817036\n",
       "169    Tonga     Oceania           70.810      97935      478510410\n",
       "144  Senegal      Africa           57.817    9505862    14363357482\n",
       "171  Tunisia      Africa           73.159    9456117    51819521160\n",
       "43    Cyprus      Europe           78.011     943294    21526912374"
      ]
     },
     "execution_count": 226,
     "metadata": {},
     "output_type": "execute_result"
    }
   ],
   "source": [
    "df.sort_values(by='population', ascending=False).head()"
   ]
  },
  {
   "cell_type": "code",
   "execution_count": 227,
   "id": "0b2329c2",
   "metadata": {},
   "outputs": [
    {
     "data": {
      "text/html": [
       "<div>\n",
       "<style scoped>\n",
       "    .dataframe tbody tr th:only-of-type {\n",
       "        vertical-align: middle;\n",
       "    }\n",
       "\n",
       "    .dataframe tbody tr th {\n",
       "        vertical-align: top;\n",
       "    }\n",
       "\n",
       "    .dataframe thead th {\n",
       "        text-align: right;\n",
       "    }\n",
       "</style>\n",
       "<table border=\"1\" class=\"dataframe\">\n",
       "  <thead>\n",
       "    <tr style=\"text-align: right;\">\n",
       "      <th></th>\n",
       "      <th>country</th>\n",
       "      <th>continent</th>\n",
       "      <th>life_expectancy</th>\n",
       "      <th>population</th>\n",
       "      <th>gdp</th>\n",
       "    </tr>\n",
       "  </thead>\n",
       "  <tbody>\n",
       "    <tr>\n",
       "      <th>0</th>\n",
       "      <td>Afghanistan</td>\n",
       "      <td>Asia</td>\n",
       "      <td>54.863</td>\n",
       "      <td>22856302</td>\n",
       "      <td>15153728226</td>\n",
       "    </tr>\n",
       "    <tr>\n",
       "      <th>1</th>\n",
       "      <td>Albania</td>\n",
       "      <td>Europe</td>\n",
       "      <td>74.200</td>\n",
       "      <td>3071856</td>\n",
       "      <td>12886435920</td>\n",
       "    </tr>\n",
       "    <tr>\n",
       "      <th>2</th>\n",
       "      <td>Algeria</td>\n",
       "      <td>Africa</td>\n",
       "      <td>68.963</td>\n",
       "      <td>30533827</td>\n",
       "      <td>155661450046</td>\n",
       "    </tr>\n",
       "    <tr>\n",
       "      <th>3</th>\n",
       "      <td>Angola</td>\n",
       "      <td>Africa</td>\n",
       "      <td>45.234</td>\n",
       "      <td>13926373</td>\n",
       "      <td>34063908358</td>\n",
       "    </tr>\n",
       "    <tr>\n",
       "      <th>4</th>\n",
       "      <td>Antigua and Barbuda</td>\n",
       "      <td>N. America</td>\n",
       "      <td>73.544</td>\n",
       "      <td>77656</td>\n",
       "      <td>989182128</td>\n",
       "    </tr>\n",
       "  </tbody>\n",
       "</table>\n",
       "</div>"
      ],
      "text/plain": [
       "               country   continent  life_expectancy  population           gdp\n",
       "0          Afghanistan        Asia           54.863    22856302   15153728226\n",
       "1              Albania      Europe           74.200     3071856   12886435920\n",
       "2              Algeria      Africa           68.963    30533827  155661450046\n",
       "3               Angola      Africa           45.234    13926373   34063908358\n",
       "4  Antigua and Barbuda  N. America           73.544       77656     989182128"
      ]
     },
     "execution_count": 227,
     "metadata": {},
     "output_type": "execute_result"
    }
   ],
   "source": [
    "df = pd.read_csv(\"countries.csv\")\n",
    "df.head()"
   ]
  },
  {
   "cell_type": "markdown",
   "id": "ba0efae8",
   "metadata": {},
   "source": [
    "### 10. What is the average population?\n",
    " "
   ]
  },
  {
   "cell_type": "code",
   "execution_count": 3,
   "id": "a293f22d",
   "metadata": {},
   "outputs": [
    {
     "ename": "NameError",
     "evalue": "name 'df' is not defined",
     "output_type": "error",
     "traceback": [
      "\u001b[0;31m---------------------------------------------------------------------------\u001b[0m",
      "\u001b[0;31mNameError\u001b[0m                                 Traceback (most recent call last)",
      "Cell \u001b[0;32mIn[3], line 3\u001b[0m\n\u001b[1;32m      1\u001b[0m \u001b[38;5;66;03m# dataframe, give me a column!\u001b[39;00m\n\u001b[1;32m      2\u001b[0m \u001b[38;5;66;03m# population\u001b[39;00m\n\u001b[0;32m----> 3\u001b[0m \u001b[43mdf\u001b[49m[\u001b[38;5;124m'\u001b[39m\u001b[38;5;124mpopulation\u001b[39m\u001b[38;5;124m'\u001b[39m]\u001b[38;5;241m.\u001b[39mmean()\n",
      "\u001b[0;31mNameError\u001b[0m: name 'df' is not defined"
     ]
    }
   ],
   "source": [
    "# dataframe, give me a column!\n",
    "# population\n",
    "df['population'].mean()"
   ]
  },
  {
   "cell_type": "code",
   "execution_count": 229,
   "id": "bb3fd312",
   "metadata": {},
   "outputs": [
    {
     "data": {
      "text/plain": [
       "6888970.5"
      ]
     },
     "execution_count": 229,
     "metadata": {},
     "output_type": "execute_result"
    }
   ],
   "source": [
    "df['population'].median()"
   ]
  },
  {
   "cell_type": "markdown",
   "id": "be4fb1f2",
   "metadata": {},
   "source": [
    "### What is the total population?"
   ]
  },
  {
   "cell_type": "code",
   "execution_count": 230,
   "id": "6995870e",
   "metadata": {},
   "outputs": [],
   "source": [
    "# This is illegal\n",
    "# sum(df['population'])"
   ]
  },
  {
   "cell_type": "code",
   "execution_count": 231,
   "id": "3e2f7eb2",
   "metadata": {},
   "outputs": [
    {
     "name": "stdout",
     "output_type": "stream",
     "text": [
      "S\n",
      "o\n",
      "m\n",
      "a\n"
     ]
    }
   ],
   "source": [
    "# iterable = something you can iterate over\n",
    "# something you can say 'give me the first one\n",
    "# give me the second one give me the third one'\n",
    "\n",
    "for letter in 'Soma':\n",
    "    print(letter)"
   ]
  },
  {
   "cell_type": "code",
   "execution_count": 232,
   "id": "7885fa4d",
   "metadata": {},
   "outputs": [
    {
     "data": {
      "text/plain": [
       "6115042358"
      ]
     },
     "execution_count": 232,
     "metadata": {},
     "output_type": "execute_result"
    }
   ],
   "source": [
    "# We want to write code like everyone else\n",
    "df['population'].sum()"
   ]
  },
  {
   "cell_type": "code",
   "execution_count": 233,
   "id": "9f1124a6",
   "metadata": {},
   "outputs": [
    {
     "data": {
      "text/plain": [
       "6888970.5"
      ]
     },
     "execution_count": 233,
     "metadata": {},
     "output_type": "execute_result"
    }
   ],
   "source": [
    "import statistics\n",
    "\n",
    "statistics.median(df['population'])"
   ]
  },
  {
   "cell_type": "code",
   "execution_count": 234,
   "id": "abff4815",
   "metadata": {},
   "outputs": [
    {
     "data": {
      "text/plain": [
       "6115042358"
      ]
     },
     "execution_count": 234,
     "metadata": {},
     "output_type": "execute_result"
    }
   ],
   "source": [
    "import numpy as np\n",
    "\n",
    "np.sum(df['population'])"
   ]
  },
  {
   "cell_type": "code",
   "execution_count": 235,
   "id": "ef7dc312",
   "metadata": {},
   "outputs": [
    {
     "data": {
      "text/plain": [
       "6115042358"
      ]
     },
     "execution_count": 235,
     "metadata": {},
     "output_type": "execute_result"
    }
   ],
   "source": [
    "df['population'].sum()"
   ]
  },
  {
   "cell_type": "code",
   "execution_count": 236,
   "id": "0ab9560c",
   "metadata": {},
   "outputs": [
    {
     "data": {
      "text/plain": [
       "6888970.5"
      ]
     },
     "execution_count": 236,
     "metadata": {},
     "output_type": "execute_result"
    }
   ],
   "source": [
    "df['population'].median()"
   ]
  },
  {
   "cell_type": "code",
   "execution_count": 237,
   "id": "3b421971",
   "metadata": {},
   "outputs": [
    {
     "data": {
      "text/plain": [
       "32526821.05319149"
      ]
     },
     "execution_count": 237,
     "metadata": {},
     "output_type": "execute_result"
    }
   ],
   "source": [
    "df['population'].mean()"
   ]
  },
  {
   "cell_type": "code",
   "execution_count": 238,
   "id": "0d2989f6",
   "metadata": {},
   "outputs": [
    {
     "data": {
      "text/plain": [
       "count    1.880000e+02\n",
       "mean     3.252682e+07\n",
       "std      1.237952e+08\n",
       "min      5.619600e+04\n",
       "25%      2.003170e+06\n",
       "50%      6.888970e+06\n",
       "75%      2.218517e+07\n",
       "max      1.269117e+09\n",
       "Name: population, dtype: float64"
      ]
     },
     "execution_count": 238,
     "metadata": {},
     "output_type": "execute_result"
    }
   ],
   "source": [
    "df['population'].describe()"
   ]
  },
  {
   "cell_type": "code",
   "execution_count": 239,
   "id": "6c282345",
   "metadata": {},
   "outputs": [
    {
     "data": {
      "text/plain": [
       "count          188.0000\n",
       "mean      32526821.0532\n",
       "std      123795162.3701\n",
       "min          56196.0000\n",
       "25%        2003169.7500\n",
       "50%        6888970.5000\n",
       "75%       22185170.7500\n",
       "max     1269116737.0000\n",
       "Name: population, dtype: float64"
      ]
     },
     "execution_count": 239,
     "metadata": {},
     "output_type": "execute_result"
    }
   ],
   "source": [
    "pd.options.display.float_format = '{:.4f}'.format\n",
    "\n",
    "# ugly = series\n",
    "# pretty = dataframe\n",
    "\n",
    "df['population'].describe()"
   ]
  },
  {
   "cell_type": "code",
   "execution_count": 240,
   "id": "d1528a18",
   "metadata": {},
   "outputs": [
    {
     "data": {
      "text/html": [
       "<div>\n",
       "<style scoped>\n",
       "    .dataframe tbody tr th:only-of-type {\n",
       "        vertical-align: middle;\n",
       "    }\n",
       "\n",
       "    .dataframe tbody tr th {\n",
       "        vertical-align: top;\n",
       "    }\n",
       "\n",
       "    .dataframe thead th {\n",
       "        text-align: right;\n",
       "    }\n",
       "</style>\n",
       "<table border=\"1\" class=\"dataframe\">\n",
       "  <thead>\n",
       "    <tr style=\"text-align: right;\">\n",
       "      <th></th>\n",
       "      <th>country</th>\n",
       "      <th>continent</th>\n",
       "      <th>life_expectancy</th>\n",
       "      <th>population</th>\n",
       "      <th>gdp</th>\n",
       "    </tr>\n",
       "  </thead>\n",
       "  <tbody>\n",
       "    <tr>\n",
       "      <th>0</th>\n",
       "      <td>Afghanistan</td>\n",
       "      <td>Asia</td>\n",
       "      <td>54.8630</td>\n",
       "      <td>22856302</td>\n",
       "      <td>15153728226</td>\n",
       "    </tr>\n",
       "    <tr>\n",
       "      <th>1</th>\n",
       "      <td>Albania</td>\n",
       "      <td>Europe</td>\n",
       "      <td>74.2000</td>\n",
       "      <td>3071856</td>\n",
       "      <td>12886435920</td>\n",
       "    </tr>\n",
       "    <tr>\n",
       "      <th>2</th>\n",
       "      <td>Algeria</td>\n",
       "      <td>Africa</td>\n",
       "      <td>68.9630</td>\n",
       "      <td>30533827</td>\n",
       "      <td>155661450046</td>\n",
       "    </tr>\n",
       "    <tr>\n",
       "      <th>3</th>\n",
       "      <td>Angola</td>\n",
       "      <td>Africa</td>\n",
       "      <td>45.2340</td>\n",
       "      <td>13926373</td>\n",
       "      <td>34063908358</td>\n",
       "    </tr>\n",
       "    <tr>\n",
       "      <th>4</th>\n",
       "      <td>Antigua and Barbuda</td>\n",
       "      <td>N. America</td>\n",
       "      <td>73.5440</td>\n",
       "      <td>77656</td>\n",
       "      <td>989182128</td>\n",
       "    </tr>\n",
       "  </tbody>\n",
       "</table>\n",
       "</div>"
      ],
      "text/plain": [
       "               country   continent  life_expectancy  population           gdp\n",
       "0          Afghanistan        Asia          54.8630    22856302   15153728226\n",
       "1              Albania      Europe          74.2000     3071856   12886435920\n",
       "2              Algeria      Africa          68.9630    30533827  155661450046\n",
       "3               Angola      Africa          45.2340    13926373   34063908358\n",
       "4  Antigua and Barbuda  N. America          73.5440       77656     989182128"
      ]
     },
     "execution_count": 240,
     "metadata": {},
     "output_type": "execute_result"
    }
   ],
   "source": [
    "df.head()"
   ]
  },
  {
   "cell_type": "code",
   "execution_count": 241,
   "id": "a877601d",
   "metadata": {},
   "outputs": [
    {
     "data": {
      "text/html": [
       "<div>\n",
       "<style scoped>\n",
       "    .dataframe tbody tr th:only-of-type {\n",
       "        vertical-align: middle;\n",
       "    }\n",
       "\n",
       "    .dataframe tbody tr th {\n",
       "        vertical-align: top;\n",
       "    }\n",
       "\n",
       "    .dataframe thead th {\n",
       "        text-align: right;\n",
       "    }\n",
       "</style>\n",
       "<table border=\"1\" class=\"dataframe\">\n",
       "  <thead>\n",
       "    <tr style=\"text-align: right;\">\n",
       "      <th></th>\n",
       "      <th>life_expectancy</th>\n",
       "      <th>population</th>\n",
       "      <th>gdp</th>\n",
       "    </tr>\n",
       "  </thead>\n",
       "  <tbody>\n",
       "    <tr>\n",
       "      <th>count</th>\n",
       "      <td>188.0000</td>\n",
       "      <td>188.0000</td>\n",
       "      <td>188.0000</td>\n",
       "    </tr>\n",
       "    <tr>\n",
       "      <th>mean</th>\n",
       "      <td>66.5015</td>\n",
       "      <td>32526821.0532</td>\n",
       "      <td>257001085119.3830</td>\n",
       "    </tr>\n",
       "    <tr>\n",
       "      <th>std</th>\n",
       "      <td>10.2985</td>\n",
       "      <td>123795162.3701</td>\n",
       "      <td>963037957623.9424</td>\n",
       "    </tr>\n",
       "    <tr>\n",
       "      <th>min</th>\n",
       "      <td>38.1230</td>\n",
       "      <td>56196.0000</td>\n",
       "      <td>186133200.0000</td>\n",
       "    </tr>\n",
       "    <tr>\n",
       "      <th>25%</th>\n",
       "      <td>59.6638</td>\n",
       "      <td>2003169.7500</td>\n",
       "      <td>7610312331.0000</td>\n",
       "    </tr>\n",
       "    <tr>\n",
       "      <th>50%</th>\n",
       "      <td>70.0415</td>\n",
       "      <td>6888970.5000</td>\n",
       "      <td>24991257442.0000</td>\n",
       "    </tr>\n",
       "    <tr>\n",
       "      <th>75%</th>\n",
       "      <td>74.1345</td>\n",
       "      <td>22185170.7500</td>\n",
       "      <td>145714169054.2500</td>\n",
       "    </tr>\n",
       "    <tr>\n",
       "      <th>max</th>\n",
       "      <td>81.3500</td>\n",
       "      <td>1269116737.0000</td>\n",
       "      <td>11231488292980.0000</td>\n",
       "    </tr>\n",
       "  </tbody>\n",
       "</table>\n",
       "</div>"
      ],
      "text/plain": [
       "       life_expectancy      population                 gdp\n",
       "count         188.0000        188.0000            188.0000\n",
       "mean           66.5015   32526821.0532   257001085119.3830\n",
       "std            10.2985  123795162.3701   963037957623.9424\n",
       "min            38.1230      56196.0000      186133200.0000\n",
       "25%            59.6638    2003169.7500     7610312331.0000\n",
       "50%            70.0415    6888970.5000    24991257442.0000\n",
       "75%            74.1345   22185170.7500   145714169054.2500\n",
       "max            81.3500 1269116737.0000 11231488292980.0000"
      ]
     },
     "execution_count": 241,
     "metadata": {},
     "output_type": "execute_result"
    }
   ],
   "source": [
    "df.describe()"
   ]
  },
  {
   "cell_type": "markdown",
   "id": "3d6e0920",
   "metadata": {},
   "source": [
    "### How many countries are on each continent"
   ]
  },
  {
   "cell_type": "code",
   "execution_count": 242,
   "id": "f62b1f20",
   "metadata": {},
   "outputs": [
    {
     "data": {
      "text/plain": [
       "Africa        54\n",
       "Asia          48\n",
       "Europe        42\n",
       "N. America    22\n",
       "S. America    12\n",
       "Oceania       10\n",
       "Name: continent, dtype: int64"
      ]
     },
     "execution_count": 242,
     "metadata": {},
     "output_type": "execute_result"
    }
   ],
   "source": [
    "df['continent'].value_counts()"
   ]
  },
  {
   "cell_type": "code",
   "execution_count": 243,
   "id": "2ae6045a",
   "metadata": {},
   "outputs": [
    {
     "data": {
      "text/plain": [
       "0.2872340425531915"
      ]
     },
     "execution_count": 243,
     "metadata": {},
     "output_type": "execute_result"
    }
   ],
   "source": [
    "54 / 188"
   ]
  },
  {
   "cell_type": "code",
   "execution_count": 244,
   "id": "03187814",
   "metadata": {},
   "outputs": [
    {
     "data": {
      "text/plain": [
       "Africa        0.287234\n",
       "Asia          0.255319\n",
       "Europe        0.223404\n",
       "N. America    0.117021\n",
       "S. America    0.063830\n",
       "Oceania       0.053191\n",
       "Name: continent, dtype: float64"
      ]
     },
     "execution_count": 244,
     "metadata": {},
     "output_type": "execute_result"
    }
   ],
   "source": [
    "pd.options.display.float_format = None\n",
    "\n",
    "df['continent'].value_counts(normalize=True)"
   ]
  },
  {
   "cell_type": "code",
   "execution_count": 245,
   "id": "eea365a9",
   "metadata": {},
   "outputs": [
    {
     "data": {
      "text/plain": [
       "Africa        0.29\n",
       "Asia          0.26\n",
       "Europe        0.22\n",
       "N. America    0.12\n",
       "S. America    0.06\n",
       "Oceania       0.05\n",
       "Name: continent, dtype: float64"
      ]
     },
     "execution_count": 245,
     "metadata": {},
     "output_type": "execute_result"
    }
   ],
   "source": [
    "(\n",
    "    df['continent']\n",
    "    .value_counts(normalize=True)\n",
    "    .round(2)\n",
    ")"
   ]
  },
  {
   "cell_type": "markdown",
   "id": "3001926a",
   "metadata": {},
   "source": [
    "### gdp per continent"
   ]
  },
  {
   "cell_type": "code",
   "execution_count": 246,
   "id": "d0f97b4d",
   "metadata": {},
   "outputs": [
    {
     "data": {
      "text/html": [
       "<div>\n",
       "<style scoped>\n",
       "    .dataframe tbody tr th:only-of-type {\n",
       "        vertical-align: middle;\n",
       "    }\n",
       "\n",
       "    .dataframe tbody tr th {\n",
       "        vertical-align: top;\n",
       "    }\n",
       "\n",
       "    .dataframe thead th {\n",
       "        text-align: right;\n",
       "    }\n",
       "</style>\n",
       "<table border=\"1\" class=\"dataframe\">\n",
       "  <thead>\n",
       "    <tr style=\"text-align: right;\">\n",
       "      <th></th>\n",
       "      <th>country</th>\n",
       "      <th>continent</th>\n",
       "      <th>life_expectancy</th>\n",
       "      <th>population</th>\n",
       "      <th>gdp</th>\n",
       "    </tr>\n",
       "  </thead>\n",
       "  <tbody>\n",
       "    <tr>\n",
       "      <th>0</th>\n",
       "      <td>Afghanistan</td>\n",
       "      <td>Asia</td>\n",
       "      <td>54.863</td>\n",
       "      <td>22856302</td>\n",
       "      <td>15153728226</td>\n",
       "    </tr>\n",
       "    <tr>\n",
       "      <th>1</th>\n",
       "      <td>Albania</td>\n",
       "      <td>Europe</td>\n",
       "      <td>74.200</td>\n",
       "      <td>3071856</td>\n",
       "      <td>12886435920</td>\n",
       "    </tr>\n",
       "    <tr>\n",
       "      <th>2</th>\n",
       "      <td>Algeria</td>\n",
       "      <td>Africa</td>\n",
       "      <td>68.963</td>\n",
       "      <td>30533827</td>\n",
       "      <td>155661450046</td>\n",
       "    </tr>\n",
       "  </tbody>\n",
       "</table>\n",
       "</div>"
      ],
      "text/plain": [
       "       country continent  life_expectancy  population           gdp\n",
       "0  Afghanistan      Asia           54.863    22856302   15153728226\n",
       "1      Albania    Europe           74.200     3071856   12886435920\n",
       "2      Algeria    Africa           68.963    30533827  155661450046"
      ]
     },
     "execution_count": 246,
     "metadata": {},
     "output_type": "execute_result"
    }
   ],
   "source": [
    "df.head(3)"
   ]
  },
  {
   "cell_type": "code",
   "execution_count": 247,
   "id": "992b24bc",
   "metadata": {},
   "outputs": [
    {
     "data": {
      "text/plain": [
       "48316204002444"
      ]
     },
     "execution_count": 247,
     "metadata": {},
     "output_type": "execute_result"
    }
   ],
   "source": [
    "# give me the gdp column!\n",
    "# add them all up!\n",
    "df['gdp'].sum()"
   ]
  },
  {
   "cell_type": "code",
   "execution_count": 248,
   "id": "c4e40fee",
   "metadata": {},
   "outputs": [
    {
     "data": {
      "text/plain": [
       "continent\n",
       "Africa         1735708274483\n",
       "Asia          16930212996062\n",
       "Europe        12618425348428\n",
       "N. America    13652481283350\n",
       "Oceania         661300999215\n",
       "S. America     2718075100906\n",
       "Name: gdp, dtype: int64"
      ]
     },
     "execution_count": 248,
     "metadata": {},
     "output_type": "execute_result"
    }
   ],
   "source": [
    "# put the dataframe in groups by the continent\n",
    "# THEN:::::\n",
    "# give me the gdp column and add them all up!\n",
    "df.groupby('continent')['gdp'].sum()"
   ]
  },
  {
   "cell_type": "code",
   "execution_count": 249,
   "id": "e0561479",
   "metadata": {},
   "outputs": [
    {
     "data": {
      "text/plain": [
       "continent\n",
       "Asia          16930212996062\n",
       "N. America    13652481283350\n",
       "Europe        12618425348428\n",
       "S. America     2718075100906\n",
       "Africa         1735708274483\n",
       "Oceania         661300999215\n",
       "Name: gdp, dtype: int64"
      ]
     },
     "execution_count": 249,
     "metadata": {},
     "output_type": "execute_result"
    }
   ],
   "source": [
    "(\n",
    "df\n",
    "    .groupby('continent')\n",
    "    ['gdp']\n",
    "    .sum()\n",
    "    .sort_values(ascending=False)\n",
    ")"
   ]
  },
  {
   "cell_type": "code",
   "execution_count": 250,
   "id": "cc8195cb",
   "metadata": {},
   "outputs": [
    {
     "data": {
      "text/html": [
       "<div>\n",
       "<style scoped>\n",
       "    .dataframe tbody tr th:only-of-type {\n",
       "        vertical-align: middle;\n",
       "    }\n",
       "\n",
       "    .dataframe tbody tr th {\n",
       "        vertical-align: top;\n",
       "    }\n",
       "\n",
       "    .dataframe thead th {\n",
       "        text-align: right;\n",
       "    }\n",
       "</style>\n",
       "<table border=\"1\" class=\"dataframe\">\n",
       "  <thead>\n",
       "    <tr style=\"text-align: right;\">\n",
       "      <th></th>\n",
       "      <th>country</th>\n",
       "      <th>continent</th>\n",
       "      <th>life_expectancy</th>\n",
       "      <th>population</th>\n",
       "      <th>gdp</th>\n",
       "    </tr>\n",
       "  </thead>\n",
       "  <tbody>\n",
       "    <tr>\n",
       "      <th>178</th>\n",
       "      <td>United States</td>\n",
       "      <td>N. America</td>\n",
       "      <td>76.800</td>\n",
       "      <td>282496310</td>\n",
       "      <td>11231488292980</td>\n",
       "    </tr>\n",
       "    <tr>\n",
       "      <th>34</th>\n",
       "      <td>China</td>\n",
       "      <td>Asia</td>\n",
       "      <td>72.124</td>\n",
       "      <td>1269116737</td>\n",
       "      <td>4323880722959</td>\n",
       "    </tr>\n",
       "  </tbody>\n",
       "</table>\n",
       "</div>"
      ],
      "text/plain": [
       "           country   continent  life_expectancy  population             gdp\n",
       "178  United States  N. America           76.800   282496310  11231488292980\n",
       "34           China        Asia           72.124  1269116737   4323880722959"
      ]
     },
     "execution_count": 250,
     "metadata": {},
     "output_type": "execute_result"
    }
   ],
   "source": [
    "df.sort_values(by='gdp', ascending=False).head(2)"
   ]
  },
  {
   "cell_type": "code",
   "execution_count": 251,
   "id": "893f2251",
   "metadata": {},
   "outputs": [
    {
     "data": {
      "text/plain": [
       "39758.0"
      ]
     },
     "execution_count": 251,
     "metadata": {},
     "output_type": "execute_result"
    }
   ],
   "source": [
    "# so you take the gdp and you divide it by the population\n",
    "# and that's how you compute gdp per capita\n",
    "11231488292980 / 282496310"
   ]
  },
  {
   "cell_type": "code",
   "execution_count": 252,
   "id": "356c8653",
   "metadata": {},
   "outputs": [
    {
     "data": {
      "text/html": [
       "<div>\n",
       "<style scoped>\n",
       "    .dataframe tbody tr th:only-of-type {\n",
       "        vertical-align: middle;\n",
       "    }\n",
       "\n",
       "    .dataframe tbody tr th {\n",
       "        vertical-align: top;\n",
       "    }\n",
       "\n",
       "    .dataframe thead th {\n",
       "        text-align: right;\n",
       "    }\n",
       "</style>\n",
       "<table border=\"1\" class=\"dataframe\">\n",
       "  <thead>\n",
       "    <tr style=\"text-align: right;\">\n",
       "      <th></th>\n",
       "      <th>country</th>\n",
       "      <th>continent</th>\n",
       "      <th>life_expectancy</th>\n",
       "      <th>population</th>\n",
       "      <th>gdp</th>\n",
       "      <th>gdp_per_capita</th>\n",
       "    </tr>\n",
       "  </thead>\n",
       "  <tbody>\n",
       "    <tr>\n",
       "      <th>0</th>\n",
       "      <td>Afghanistan</td>\n",
       "      <td>Asia</td>\n",
       "      <td>54.863</td>\n",
       "      <td>22856302</td>\n",
       "      <td>15153728226</td>\n",
       "      <td>663.0</td>\n",
       "    </tr>\n",
       "    <tr>\n",
       "      <th>1</th>\n",
       "      <td>Albania</td>\n",
       "      <td>Europe</td>\n",
       "      <td>74.200</td>\n",
       "      <td>3071856</td>\n",
       "      <td>12886435920</td>\n",
       "      <td>4195.0</td>\n",
       "    </tr>\n",
       "    <tr>\n",
       "      <th>2</th>\n",
       "      <td>Algeria</td>\n",
       "      <td>Africa</td>\n",
       "      <td>68.963</td>\n",
       "      <td>30533827</td>\n",
       "      <td>155661450046</td>\n",
       "      <td>5098.0</td>\n",
       "    </tr>\n",
       "    <tr>\n",
       "      <th>3</th>\n",
       "      <td>Angola</td>\n",
       "      <td>Africa</td>\n",
       "      <td>45.234</td>\n",
       "      <td>13926373</td>\n",
       "      <td>34063908358</td>\n",
       "      <td>2446.0</td>\n",
       "    </tr>\n",
       "    <tr>\n",
       "      <th>4</th>\n",
       "      <td>Antigua and Barbuda</td>\n",
       "      <td>N. America</td>\n",
       "      <td>73.544</td>\n",
       "      <td>77656</td>\n",
       "      <td>989182128</td>\n",
       "      <td>12738.0</td>\n",
       "    </tr>\n",
       "  </tbody>\n",
       "</table>\n",
       "</div>"
      ],
      "text/plain": [
       "               country   continent  life_expectancy  population           gdp  \\\n",
       "0          Afghanistan        Asia           54.863    22856302   15153728226   \n",
       "1              Albania      Europe           74.200     3071856   12886435920   \n",
       "2              Algeria      Africa           68.963    30533827  155661450046   \n",
       "3               Angola      Africa           45.234    13926373   34063908358   \n",
       "4  Antigua and Barbuda  N. America           73.544       77656     989182128   \n",
       "\n",
       "   gdp_per_capita  \n",
       "0           663.0  \n",
       "1          4195.0  \n",
       "2          5098.0  \n",
       "3          2446.0  \n",
       "4         12738.0  "
      ]
     },
     "execution_count": 252,
     "metadata": {},
     "output_type": "execute_result"
    }
   ],
   "source": [
    "# YOUR MISSION!!!\n",
    "# using your IMAGINATION\n",
    "# and what you would LOVE to be able to do\n",
    "# please calculate the gdp per capita of EVERY COUNTRY\n",
    "\n",
    "# \"i love for loops, let's use a for loop\"\n",
    "# never do this! don't! stay away!\n",
    "\n",
    "df['gdp_per_capita'] = df['gdp'] / df['population']\n",
    "df.head()"
   ]
  },
  {
   "cell_type": "code",
   "execution_count": 253,
   "id": "5d73864d",
   "metadata": {},
   "outputs": [
    {
     "data": {
      "text/html": [
       "<div>\n",
       "<style scoped>\n",
       "    .dataframe tbody tr th:only-of-type {\n",
       "        vertical-align: middle;\n",
       "    }\n",
       "\n",
       "    .dataframe tbody tr th {\n",
       "        vertical-align: top;\n",
       "    }\n",
       "\n",
       "    .dataframe thead th {\n",
       "        text-align: right;\n",
       "    }\n",
       "</style>\n",
       "<table border=\"1\" class=\"dataframe\">\n",
       "  <thead>\n",
       "    <tr style=\"text-align: right;\">\n",
       "      <th></th>\n",
       "      <th>country</th>\n",
       "      <th>continent</th>\n",
       "      <th>life_expectancy</th>\n",
       "      <th>population</th>\n",
       "      <th>gdp</th>\n",
       "      <th>gdp_per_capita</th>\n",
       "    </tr>\n",
       "  </thead>\n",
       "  <tbody>\n",
       "    <tr>\n",
       "      <th>0</th>\n",
       "      <td>Afghanistan</td>\n",
       "      <td>Asia</td>\n",
       "      <td>54.863</td>\n",
       "      <td>22856302</td>\n",
       "      <td>15153728226</td>\n",
       "      <td>663.0</td>\n",
       "    </tr>\n",
       "    <tr>\n",
       "      <th>1</th>\n",
       "      <td>Albania</td>\n",
       "      <td>Europe</td>\n",
       "      <td>74.200</td>\n",
       "      <td>3071856</td>\n",
       "      <td>12886435920</td>\n",
       "      <td>4195.0</td>\n",
       "    </tr>\n",
       "    <tr>\n",
       "      <th>2</th>\n",
       "      <td>Algeria</td>\n",
       "      <td>Africa</td>\n",
       "      <td>68.963</td>\n",
       "      <td>30533827</td>\n",
       "      <td>155661450046</td>\n",
       "      <td>5098.0</td>\n",
       "    </tr>\n",
       "    <tr>\n",
       "      <th>3</th>\n",
       "      <td>Angola</td>\n",
       "      <td>Africa</td>\n",
       "      <td>45.234</td>\n",
       "      <td>13926373</td>\n",
       "      <td>34063908358</td>\n",
       "      <td>2446.0</td>\n",
       "    </tr>\n",
       "    <tr>\n",
       "      <th>4</th>\n",
       "      <td>Antigua and Barbuda</td>\n",
       "      <td>N. America</td>\n",
       "      <td>73.544</td>\n",
       "      <td>77656</td>\n",
       "      <td>989182128</td>\n",
       "      <td>12738.0</td>\n",
       "    </tr>\n",
       "  </tbody>\n",
       "</table>\n",
       "</div>"
      ],
      "text/plain": [
       "               country   continent  life_expectancy  population           gdp  \\\n",
       "0          Afghanistan        Asia           54.863    22856302   15153728226   \n",
       "1              Albania      Europe           74.200     3071856   12886435920   \n",
       "2              Algeria      Africa           68.963    30533827  155661450046   \n",
       "3               Angola      Africa           45.234    13926373   34063908358   \n",
       "4  Antigua and Barbuda  N. America           73.544       77656     989182128   \n",
       "\n",
       "   gdp_per_capita  \n",
       "0           663.0  \n",
       "1          4195.0  \n",
       "2          5098.0  \n",
       "3          2446.0  \n",
       "4         12738.0  "
      ]
     },
     "execution_count": 253,
     "metadata": {},
     "output_type": "execute_result"
    }
   ],
   "source": [
    "df.head()"
   ]
  },
  {
   "cell_type": "markdown",
   "id": "c617c5c2",
   "metadata": {},
   "source": [
    "### Does the size of population correlate with GDP?"
   ]
  },
  {
   "cell_type": "code",
   "execution_count": 268,
   "id": "db975053",
   "metadata": {},
   "outputs": [
    {
     "data": {
      "text/html": [
       "<div>\n",
       "<style scoped>\n",
       "    .dataframe tbody tr th:only-of-type {\n",
       "        vertical-align: middle;\n",
       "    }\n",
       "\n",
       "    .dataframe tbody tr th {\n",
       "        vertical-align: top;\n",
       "    }\n",
       "\n",
       "    .dataframe thead th {\n",
       "        text-align: right;\n",
       "    }\n",
       "</style>\n",
       "<table border=\"1\" class=\"dataframe\">\n",
       "  <thead>\n",
       "    <tr style=\"text-align: right;\">\n",
       "      <th></th>\n",
       "      <th>life_expectancy</th>\n",
       "      <th>population</th>\n",
       "      <th>gdp</th>\n",
       "      <th>gdp_per_capita</th>\n",
       "    </tr>\n",
       "  </thead>\n",
       "  <tbody>\n",
       "    <tr>\n",
       "      <th>life_expectancy</th>\n",
       "      <td>1.000000</td>\n",
       "      <td>0.030302</td>\n",
       "      <td>0.209858</td>\n",
       "      <td>0.629438</td>\n",
       "    </tr>\n",
       "    <tr>\n",
       "      <th>population</th>\n",
       "      <td>0.030302</td>\n",
       "      <td>1.000000</td>\n",
       "      <td>0.494767</td>\n",
       "      <td>-0.045884</td>\n",
       "    </tr>\n",
       "    <tr>\n",
       "      <th>gdp</th>\n",
       "      <td>0.209858</td>\n",
       "      <td>0.494767</td>\n",
       "      <td>1.000000</td>\n",
       "      <td>0.277386</td>\n",
       "    </tr>\n",
       "    <tr>\n",
       "      <th>gdp_per_capita</th>\n",
       "      <td>0.629438</td>\n",
       "      <td>-0.045884</td>\n",
       "      <td>0.277386</td>\n",
       "      <td>1.000000</td>\n",
       "    </tr>\n",
       "  </tbody>\n",
       "</table>\n",
       "</div>"
      ],
      "text/plain": [
       "                 life_expectancy  population       gdp  gdp_per_capita\n",
       "life_expectancy         1.000000    0.030302  0.209858        0.629438\n",
       "population              0.030302    1.000000  0.494767       -0.045884\n",
       "gdp                     0.209858    0.494767  1.000000        0.277386\n",
       "gdp_per_capita          0.629438   -0.045884  0.277386        1.000000"
      ]
     },
     "execution_count": 268,
     "metadata": {},
     "output_type": "execute_result"
    }
   ],
   "source": [
    "df.corr(numeric_only=True)"
   ]
  },
  {
   "cell_type": "markdown",
   "id": "9eff92fd",
   "metadata": {},
   "source": [
    "### List 10 African countries with the highest life expectancy\n"
   ]
  },
  {
   "cell_type": "code",
   "execution_count": 255,
   "id": "e414d2fa",
   "metadata": {},
   "outputs": [
    {
     "data": {
      "text/plain": [
       "0      False\n",
       "1      False\n",
       "2       True\n",
       "3       True\n",
       "4      False\n",
       "       ...  \n",
       "183    False\n",
       "184    False\n",
       "185    False\n",
       "186     True\n",
       "187     True\n",
       "Name: continent, Length: 188, dtype: bool"
      ]
     },
     "execution_count": 255,
     "metadata": {},
     "output_type": "execute_result"
    }
   ],
   "source": [
    "# ask the question:\n",
    "#   is each country's continent equal to 'Africa'????\n",
    "# don't use an if\n",
    "\n",
    "# 1. \"hey dataframe, give me the continent!\"\n",
    "# 2. compare that to Africa\n",
    "\n",
    "df['continent'] == 'Africa'"
   ]
  },
  {
   "cell_type": "code",
   "execution_count": 256,
   "id": "d834f925",
   "metadata": {},
   "outputs": [],
   "source": [
    "# NO SORRY!! I didn't mean to do this\n",
    "# I'll be a good kid and use two equal signs\n",
    "# df['continent'] = 'Africa'\n",
    "# df.head()"
   ]
  },
  {
   "cell_type": "code",
   "execution_count": 257,
   "id": "3fcd1ab3",
   "metadata": {},
   "outputs": [],
   "source": [
    "# df['continent'] == 'Africa'"
   ]
  },
  {
   "cell_type": "code",
   "execution_count": 258,
   "id": "c34a0973",
   "metadata": {},
   "outputs": [
    {
     "data": {
      "text/html": [
       "<div>\n",
       "<style scoped>\n",
       "    .dataframe tbody tr th:only-of-type {\n",
       "        vertical-align: middle;\n",
       "    }\n",
       "\n",
       "    .dataframe tbody tr th {\n",
       "        vertical-align: top;\n",
       "    }\n",
       "\n",
       "    .dataframe thead th {\n",
       "        text-align: right;\n",
       "    }\n",
       "</style>\n",
       "<table border=\"1\" class=\"dataframe\">\n",
       "  <thead>\n",
       "    <tr style=\"text-align: right;\">\n",
       "      <th></th>\n",
       "      <th>country</th>\n",
       "      <th>continent</th>\n",
       "      <th>life_expectancy</th>\n",
       "      <th>population</th>\n",
       "      <th>gdp</th>\n",
       "      <th>gdp_per_capita</th>\n",
       "    </tr>\n",
       "  </thead>\n",
       "  <tbody>\n",
       "    <tr>\n",
       "      <th>2</th>\n",
       "      <td>Algeria</td>\n",
       "      <td>Africa</td>\n",
       "      <td>68.9630</td>\n",
       "      <td>30533827</td>\n",
       "      <td>155661450046</td>\n",
       "      <td>5098.0</td>\n",
       "    </tr>\n",
       "    <tr>\n",
       "      <th>3</th>\n",
       "      <td>Angola</td>\n",
       "      <td>Africa</td>\n",
       "      <td>45.2340</td>\n",
       "      <td>13926373</td>\n",
       "      <td>34063908358</td>\n",
       "      <td>2446.0</td>\n",
       "    </tr>\n",
       "    <tr>\n",
       "      <th>17</th>\n",
       "      <td>Benin</td>\n",
       "      <td>Africa</td>\n",
       "      <td>55.2610</td>\n",
       "      <td>6517810</td>\n",
       "      <td>8518777670</td>\n",
       "      <td>1307.0</td>\n",
       "    </tr>\n",
       "    <tr>\n",
       "      <th>21</th>\n",
       "      <td>Botswana</td>\n",
       "      <td>Africa</td>\n",
       "      <td>50.5670</td>\n",
       "      <td>1757925</td>\n",
       "      <td>17767347975</td>\n",
       "      <td>10107.0</td>\n",
       "    </tr>\n",
       "    <tr>\n",
       "      <th>25</th>\n",
       "      <td>Burkina Faso</td>\n",
       "      <td>Africa</td>\n",
       "      <td>50.5890</td>\n",
       "      <td>12294012</td>\n",
       "      <td>12306306012</td>\n",
       "      <td>1001.0</td>\n",
       "    </tr>\n",
       "    <tr>\n",
       "      <th>26</th>\n",
       "      <td>Burundi</td>\n",
       "      <td>Africa</td>\n",
       "      <td>48.2510</td>\n",
       "      <td>6374347</td>\n",
       "      <td>2823835721</td>\n",
       "      <td>443.0</td>\n",
       "    </tr>\n",
       "    <tr>\n",
       "      <th>28</th>\n",
       "      <td>Cameroon</td>\n",
       "      <td>Africa</td>\n",
       "      <td>51.9600</td>\n",
       "      <td>15678269</td>\n",
       "      <td>28267919007</td>\n",
       "      <td>1803.0</td>\n",
       "    </tr>\n",
       "    <tr>\n",
       "      <th>30</th>\n",
       "      <td>Cape Verde</td>\n",
       "      <td>Africa</td>\n",
       "      <td>69.8350</td>\n",
       "      <td>437238</td>\n",
       "      <td>1001712258</td>\n",
       "      <td>2291.0</td>\n",
       "    </tr>\n",
       "    <tr>\n",
       "      <th>31</th>\n",
       "      <td>Central African Rep.</td>\n",
       "      <td>Africa</td>\n",
       "      <td>43.7270</td>\n",
       "      <td>3701607</td>\n",
       "      <td>2820624534</td>\n",
       "      <td>762.0</td>\n",
       "    </tr>\n",
       "    <tr>\n",
       "      <th>32</th>\n",
       "      <td>Chad</td>\n",
       "      <td>Africa</td>\n",
       "      <td>46.7080</td>\n",
       "      <td>8222327</td>\n",
       "      <td>8362106559</td>\n",
       "      <td>1017.0</td>\n",
       "    </tr>\n",
       "    <tr>\n",
       "      <th>36</th>\n",
       "      <td>Comoros</td>\n",
       "      <td>Africa</td>\n",
       "      <td>57.9000</td>\n",
       "      <td>562469</td>\n",
       "      <td>613091210</td>\n",
       "      <td>1090.0</td>\n",
       "    </tr>\n",
       "    <tr>\n",
       "      <th>37</th>\n",
       "      <td>Congo, Dem. Rep.</td>\n",
       "      <td>Africa</td>\n",
       "      <td>46.3870</td>\n",
       "      <td>49626200</td>\n",
       "      <td>14490850400</td>\n",
       "      <td>292.0</td>\n",
       "    </tr>\n",
       "    <tr>\n",
       "      <th>38</th>\n",
       "      <td>Congo, Rep.</td>\n",
       "      <td>Africa</td>\n",
       "      <td>52.3260</td>\n",
       "      <td>3135773</td>\n",
       "      <td>10733750979</td>\n",
       "      <td>3423.0</td>\n",
       "    </tr>\n",
       "    <tr>\n",
       "      <th>40</th>\n",
       "      <td>Cote d'Ivoire</td>\n",
       "      <td>Africa</td>\n",
       "      <td>46.4290</td>\n",
       "      <td>16581653</td>\n",
       "      <td>28951566138</td>\n",
       "      <td>1746.0</td>\n",
       "    </tr>\n",
       "    <tr>\n",
       "      <th>46</th>\n",
       "      <td>Djibouti</td>\n",
       "      <td>Africa</td>\n",
       "      <td>57.0230</td>\n",
       "      <td>731930</td>\n",
       "      <td>1386275420</td>\n",
       "      <td>1894.0</td>\n",
       "    </tr>\n",
       "    <tr>\n",
       "      <th>49</th>\n",
       "      <td>Egypt</td>\n",
       "      <td>Africa</td>\n",
       "      <td>68.6320</td>\n",
       "      <td>67648419</td>\n",
       "      <td>313144531551</td>\n",
       "      <td>4629.0</td>\n",
       "    </tr>\n",
       "    <tr>\n",
       "      <th>51</th>\n",
       "      <td>Equatorial Guinea</td>\n",
       "      <td>Africa</td>\n",
       "      <td>47.7230</td>\n",
       "      <td>520380</td>\n",
       "      <td>2726791200</td>\n",
       "      <td>5240.0</td>\n",
       "    </tr>\n",
       "    <tr>\n",
       "      <th>52</th>\n",
       "      <td>Eritrea</td>\n",
       "      <td>Africa</td>\n",
       "      <td>56.1310</td>\n",
       "      <td>3667576</td>\n",
       "      <td>2717673816</td>\n",
       "      <td>741.0</td>\n",
       "    </tr>\n",
       "    <tr>\n",
       "      <th>54</th>\n",
       "      <td>Ethiopia</td>\n",
       "      <td>Africa</td>\n",
       "      <td>52.2450</td>\n",
       "      <td>65577897</td>\n",
       "      <td>33575883264</td>\n",
       "      <td>512.0</td>\n",
       "    </tr>\n",
       "    <tr>\n",
       "      <th>58</th>\n",
       "      <td>Gabon</td>\n",
       "      <td>Africa</td>\n",
       "      <td>59.7440</td>\n",
       "      <td>1235274</td>\n",
       "      <td>15767037336</td>\n",
       "      <td>12764.0</td>\n",
       "    </tr>\n",
       "    <tr>\n",
       "      <th>59</th>\n",
       "      <td>Gambia</td>\n",
       "      <td>Africa</td>\n",
       "      <td>55.1150</td>\n",
       "      <td>1297084</td>\n",
       "      <td>891096708</td>\n",
       "      <td>687.0</td>\n",
       "    </tr>\n",
       "    <tr>\n",
       "      <th>62</th>\n",
       "      <td>Ghana</td>\n",
       "      <td>Africa</td>\n",
       "      <td>56.9960</td>\n",
       "      <td>19165490</td>\n",
       "      <td>20449577830</td>\n",
       "      <td>1067.0</td>\n",
       "    </tr>\n",
       "    <tr>\n",
       "      <th>67</th>\n",
       "      <td>Guinea</td>\n",
       "      <td>Africa</td>\n",
       "      <td>51.2570</td>\n",
       "      <td>8344486</td>\n",
       "      <td>7560104316</td>\n",
       "      <td>906.0</td>\n",
       "    </tr>\n",
       "    <tr>\n",
       "      <th>68</th>\n",
       "      <td>Guinea-Bissau</td>\n",
       "      <td>Africa</td>\n",
       "      <td>51.4680</td>\n",
       "      <td>1240655</td>\n",
       "      <td>784093960</td>\n",
       "      <td>632.0</td>\n",
       "    </tr>\n",
       "    <tr>\n",
       "      <th>86</th>\n",
       "      <td>Kenya</td>\n",
       "      <td>Africa</td>\n",
       "      <td>52.8640</td>\n",
       "      <td>31253701</td>\n",
       "      <td>41192377918</td>\n",
       "      <td>1318.0</td>\n",
       "    </tr>\n",
       "    <tr>\n",
       "      <th>95</th>\n",
       "      <td>Lesotho</td>\n",
       "      <td>Africa</td>\n",
       "      <td>47.2650</td>\n",
       "      <td>1963878</td>\n",
       "      <td>2329159308</td>\n",
       "      <td>1186.0</td>\n",
       "    </tr>\n",
       "    <tr>\n",
       "      <th>96</th>\n",
       "      <td>Liberia</td>\n",
       "      <td>Africa</td>\n",
       "      <td>52.4240</td>\n",
       "      <td>2847290</td>\n",
       "      <td>1477743510</td>\n",
       "      <td>519.0</td>\n",
       "    </tr>\n",
       "    <tr>\n",
       "      <th>97</th>\n",
       "      <td>Libya</td>\n",
       "      <td>Africa</td>\n",
       "      <td>71.8720</td>\n",
       "      <td>5231189</td>\n",
       "      <td>47807836271</td>\n",
       "      <td>9139.0</td>\n",
       "    </tr>\n",
       "    <tr>\n",
       "      <th>102</th>\n",
       "      <td>Madagascar</td>\n",
       "      <td>Africa</td>\n",
       "      <td>58.4850</td>\n",
       "      <td>15364272</td>\n",
       "      <td>15779107344</td>\n",
       "      <td>1027.0</td>\n",
       "    </tr>\n",
       "    <tr>\n",
       "      <th>103</th>\n",
       "      <td>Malawi</td>\n",
       "      <td>Africa</td>\n",
       "      <td>46.0400</td>\n",
       "      <td>11228756</td>\n",
       "      <td>8006103028</td>\n",
       "      <td>713.0</td>\n",
       "    </tr>\n",
       "    <tr>\n",
       "      <th>106</th>\n",
       "      <td>Mali</td>\n",
       "      <td>Africa</td>\n",
       "      <td>49.0610</td>\n",
       "      <td>11295324</td>\n",
       "      <td>9646206696</td>\n",
       "      <td>854.0</td>\n",
       "    </tr>\n",
       "    <tr>\n",
       "      <th>108</th>\n",
       "      <td>Mauritania</td>\n",
       "      <td>Africa</td>\n",
       "      <td>59.7290</td>\n",
       "      <td>2642743</td>\n",
       "      <td>4069824220</td>\n",
       "      <td>1540.0</td>\n",
       "    </tr>\n",
       "    <tr>\n",
       "      <th>109</th>\n",
       "      <td>Mauritius</td>\n",
       "      <td>Africa</td>\n",
       "      <td>71.2020</td>\n",
       "      <td>1196027</td>\n",
       "      <td>9915063830</td>\n",
       "      <td>8290.0</td>\n",
       "    </tr>\n",
       "    <tr>\n",
       "      <th>115</th>\n",
       "      <td>Morocco</td>\n",
       "      <td>Africa</td>\n",
       "      <td>68.2200</td>\n",
       "      <td>28793236</td>\n",
       "      <td>88481614228</td>\n",
       "      <td>3073.0</td>\n",
       "    </tr>\n",
       "    <tr>\n",
       "      <th>116</th>\n",
       "      <td>Mozambique</td>\n",
       "      <td>Africa</td>\n",
       "      <td>47.4720</td>\n",
       "      <td>18200656</td>\n",
       "      <td>9864755552</td>\n",
       "      <td>542.0</td>\n",
       "    </tr>\n",
       "    <tr>\n",
       "      <th>118</th>\n",
       "      <td>Namibia</td>\n",
       "      <td>Africa</td>\n",
       "      <td>55.1730</td>\n",
       "      <td>1895839</td>\n",
       "      <td>7625064458</td>\n",
       "      <td>4022.0</td>\n",
       "    </tr>\n",
       "    <tr>\n",
       "      <th>123</th>\n",
       "      <td>Niger</td>\n",
       "      <td>Africa</td>\n",
       "      <td>50.6920</td>\n",
       "      <td>10922421</td>\n",
       "      <td>6302236917</td>\n",
       "      <td>577.0</td>\n",
       "    </tr>\n",
       "    <tr>\n",
       "      <th>124</th>\n",
       "      <td>Nigeria</td>\n",
       "      <td>Africa</td>\n",
       "      <td>46.6290</td>\n",
       "      <td>123688536</td>\n",
       "      <td>200251739784</td>\n",
       "      <td>1619.0</td>\n",
       "    </tr>\n",
       "    <tr>\n",
       "      <th>138</th>\n",
       "      <td>Rwanda</td>\n",
       "      <td>Africa</td>\n",
       "      <td>47.6425</td>\n",
       "      <td>8098344</td>\n",
       "      <td>5701234176</td>\n",
       "      <td>704.0</td>\n",
       "    </tr>\n",
       "    <tr>\n",
       "      <th>142</th>\n",
       "      <td>Sao Tome and Principe</td>\n",
       "      <td>Africa</td>\n",
       "      <td>63.3360</td>\n",
       "      <td>141010</td>\n",
       "      <td>186133200</td>\n",
       "      <td>1320.0</td>\n",
       "    </tr>\n",
       "    <tr>\n",
       "      <th>144</th>\n",
       "      <td>Senegal</td>\n",
       "      <td>Africa</td>\n",
       "      <td>57.8170</td>\n",
       "      <td>9505862</td>\n",
       "      <td>14363357482</td>\n",
       "      <td>1511.0</td>\n",
       "    </tr>\n",
       "    <tr>\n",
       "      <th>146</th>\n",
       "      <td>Seychelles</td>\n",
       "      <td>Africa</td>\n",
       "      <td>71.7710</td>\n",
       "      <td>78685</td>\n",
       "      <td>1198372550</td>\n",
       "      <td>15230.0</td>\n",
       "    </tr>\n",
       "    <tr>\n",
       "      <th>147</th>\n",
       "      <td>Sierra Leone</td>\n",
       "      <td>Africa</td>\n",
       "      <td>38.1230</td>\n",
       "      <td>4143115</td>\n",
       "      <td>2141990455</td>\n",
       "      <td>517.0</td>\n",
       "    </tr>\n",
       "    <tr>\n",
       "      <th>152</th>\n",
       "      <td>Somalia</td>\n",
       "      <td>Africa</td>\n",
       "      <td>50.9020</td>\n",
       "      <td>7399033</td>\n",
       "      <td>6518548073</td>\n",
       "      <td>881.0</td>\n",
       "    </tr>\n",
       "    <tr>\n",
       "      <th>153</th>\n",
       "      <td>South Africa</td>\n",
       "      <td>Africa</td>\n",
       "      <td>55.8920</td>\n",
       "      <td>44760380</td>\n",
       "      <td>333643872520</td>\n",
       "      <td>7454.0</td>\n",
       "    </tr>\n",
       "    <tr>\n",
       "      <th>154</th>\n",
       "      <td>South Sudan</td>\n",
       "      <td>Africa</td>\n",
       "      <td>49.2480</td>\n",
       "      <td>6994624</td>\n",
       "      <td>13170876992</td>\n",
       "      <td>1883.0</td>\n",
       "    </tr>\n",
       "    <tr>\n",
       "      <th>157</th>\n",
       "      <td>Sudan</td>\n",
       "      <td>Africa</td>\n",
       "      <td>57.9790</td>\n",
       "      <td>27193105</td>\n",
       "      <td>50959878770</td>\n",
       "      <td>1874.0</td>\n",
       "    </tr>\n",
       "    <tr>\n",
       "      <th>159</th>\n",
       "      <td>Swaziland</td>\n",
       "      <td>Africa</td>\n",
       "      <td>48.6890</td>\n",
       "      <td>1063832</td>\n",
       "      <td>4277668472</td>\n",
       "      <td>4021.0</td>\n",
       "    </tr>\n",
       "    <tr>\n",
       "      <th>165</th>\n",
       "      <td>Tanzania</td>\n",
       "      <td>Africa</td>\n",
       "      <td>50.0100</td>\n",
       "      <td>34038161</td>\n",
       "      <td>28115520986</td>\n",
       "      <td>826.0</td>\n",
       "    </tr>\n",
       "    <tr>\n",
       "      <th>168</th>\n",
       "      <td>Togo</td>\n",
       "      <td>Africa</td>\n",
       "      <td>53.5850</td>\n",
       "      <td>4793504</td>\n",
       "      <td>4266218560</td>\n",
       "      <td>890.0</td>\n",
       "    </tr>\n",
       "    <tr>\n",
       "      <th>171</th>\n",
       "      <td>Tunisia</td>\n",
       "      <td>Africa</td>\n",
       "      <td>73.1590</td>\n",
       "      <td>9456117</td>\n",
       "      <td>51819521160</td>\n",
       "      <td>5480.0</td>\n",
       "    </tr>\n",
       "    <tr>\n",
       "      <th>174</th>\n",
       "      <td>Uganda</td>\n",
       "      <td>Africa</td>\n",
       "      <td>48.1260</td>\n",
       "      <td>24213120</td>\n",
       "      <td>21331758720</td>\n",
       "      <td>881.0</td>\n",
       "    </tr>\n",
       "    <tr>\n",
       "      <th>186</th>\n",
       "      <td>Zambia</td>\n",
       "      <td>Africa</td>\n",
       "      <td>41.8020</td>\n",
       "      <td>10201562</td>\n",
       "      <td>10558616670</td>\n",
       "      <td>1035.0</td>\n",
       "    </tr>\n",
       "    <tr>\n",
       "      <th>187</th>\n",
       "      <td>Zimbabwe</td>\n",
       "      <td>Africa</td>\n",
       "      <td>43.9760</td>\n",
       "      <td>12509477</td>\n",
       "      <td>9319560365</td>\n",
       "      <td>745.0</td>\n",
       "    </tr>\n",
       "  </tbody>\n",
       "</table>\n",
       "</div>"
      ],
      "text/plain": [
       "                   country continent  life_expectancy  population  \\\n",
       "2                  Algeria    Africa          68.9630    30533827   \n",
       "3                   Angola    Africa          45.2340    13926373   \n",
       "17                   Benin    Africa          55.2610     6517810   \n",
       "21                Botswana    Africa          50.5670     1757925   \n",
       "25            Burkina Faso    Africa          50.5890    12294012   \n",
       "26                 Burundi    Africa          48.2510     6374347   \n",
       "28                Cameroon    Africa          51.9600    15678269   \n",
       "30              Cape Verde    Africa          69.8350      437238   \n",
       "31    Central African Rep.    Africa          43.7270     3701607   \n",
       "32                    Chad    Africa          46.7080     8222327   \n",
       "36                 Comoros    Africa          57.9000      562469   \n",
       "37        Congo, Dem. Rep.    Africa          46.3870    49626200   \n",
       "38             Congo, Rep.    Africa          52.3260     3135773   \n",
       "40           Cote d'Ivoire    Africa          46.4290    16581653   \n",
       "46                Djibouti    Africa          57.0230      731930   \n",
       "49                   Egypt    Africa          68.6320    67648419   \n",
       "51       Equatorial Guinea    Africa          47.7230      520380   \n",
       "52                 Eritrea    Africa          56.1310     3667576   \n",
       "54                Ethiopia    Africa          52.2450    65577897   \n",
       "58                   Gabon    Africa          59.7440     1235274   \n",
       "59                  Gambia    Africa          55.1150     1297084   \n",
       "62                   Ghana    Africa          56.9960    19165490   \n",
       "67                  Guinea    Africa          51.2570     8344486   \n",
       "68           Guinea-Bissau    Africa          51.4680     1240655   \n",
       "86                   Kenya    Africa          52.8640    31253701   \n",
       "95                 Lesotho    Africa          47.2650     1963878   \n",
       "96                 Liberia    Africa          52.4240     2847290   \n",
       "97                   Libya    Africa          71.8720     5231189   \n",
       "102             Madagascar    Africa          58.4850    15364272   \n",
       "103                 Malawi    Africa          46.0400    11228756   \n",
       "106                   Mali    Africa          49.0610    11295324   \n",
       "108             Mauritania    Africa          59.7290     2642743   \n",
       "109              Mauritius    Africa          71.2020     1196027   \n",
       "115                Morocco    Africa          68.2200    28793236   \n",
       "116             Mozambique    Africa          47.4720    18200656   \n",
       "118                Namibia    Africa          55.1730     1895839   \n",
       "123                  Niger    Africa          50.6920    10922421   \n",
       "124                Nigeria    Africa          46.6290   123688536   \n",
       "138                 Rwanda    Africa          47.6425     8098344   \n",
       "142  Sao Tome and Principe    Africa          63.3360      141010   \n",
       "144                Senegal    Africa          57.8170     9505862   \n",
       "146             Seychelles    Africa          71.7710       78685   \n",
       "147           Sierra Leone    Africa          38.1230     4143115   \n",
       "152                Somalia    Africa          50.9020     7399033   \n",
       "153           South Africa    Africa          55.8920    44760380   \n",
       "154            South Sudan    Africa          49.2480     6994624   \n",
       "157                  Sudan    Africa          57.9790    27193105   \n",
       "159              Swaziland    Africa          48.6890     1063832   \n",
       "165               Tanzania    Africa          50.0100    34038161   \n",
       "168                   Togo    Africa          53.5850     4793504   \n",
       "171                Tunisia    Africa          73.1590     9456117   \n",
       "174                 Uganda    Africa          48.1260    24213120   \n",
       "186                 Zambia    Africa          41.8020    10201562   \n",
       "187               Zimbabwe    Africa          43.9760    12509477   \n",
       "\n",
       "              gdp  gdp_per_capita  \n",
       "2    155661450046          5098.0  \n",
       "3     34063908358          2446.0  \n",
       "17     8518777670          1307.0  \n",
       "21    17767347975         10107.0  \n",
       "25    12306306012          1001.0  \n",
       "26     2823835721           443.0  \n",
       "28    28267919007          1803.0  \n",
       "30     1001712258          2291.0  \n",
       "31     2820624534           762.0  \n",
       "32     8362106559          1017.0  \n",
       "36      613091210          1090.0  \n",
       "37    14490850400           292.0  \n",
       "38    10733750979          3423.0  \n",
       "40    28951566138          1746.0  \n",
       "46     1386275420          1894.0  \n",
       "49   313144531551          4629.0  \n",
       "51     2726791200          5240.0  \n",
       "52     2717673816           741.0  \n",
       "54    33575883264           512.0  \n",
       "58    15767037336         12764.0  \n",
       "59      891096708           687.0  \n",
       "62    20449577830          1067.0  \n",
       "67     7560104316           906.0  \n",
       "68      784093960           632.0  \n",
       "86    41192377918          1318.0  \n",
       "95     2329159308          1186.0  \n",
       "96     1477743510           519.0  \n",
       "97    47807836271          9139.0  \n",
       "102   15779107344          1027.0  \n",
       "103    8006103028           713.0  \n",
       "106    9646206696           854.0  \n",
       "108    4069824220          1540.0  \n",
       "109    9915063830          8290.0  \n",
       "115   88481614228          3073.0  \n",
       "116    9864755552           542.0  \n",
       "118    7625064458          4022.0  \n",
       "123    6302236917           577.0  \n",
       "124  200251739784          1619.0  \n",
       "138    5701234176           704.0  \n",
       "142     186133200          1320.0  \n",
       "144   14363357482          1511.0  \n",
       "146    1198372550         15230.0  \n",
       "147    2141990455           517.0  \n",
       "152    6518548073           881.0  \n",
       "153  333643872520          7454.0  \n",
       "154   13170876992          1883.0  \n",
       "157   50959878770          1874.0  \n",
       "159    4277668472          4021.0  \n",
       "165   28115520986           826.0  \n",
       "168    4266218560           890.0  \n",
       "171   51819521160          5480.0  \n",
       "174   21331758720           881.0  \n",
       "186   10558616670          1035.0  \n",
       "187    9319560365           745.0  "
      ]
     },
     "execution_count": 258,
     "metadata": {},
     "output_type": "execute_result"
    }
   ],
   "source": [
    "df[df['continent'] == 'Africa']"
   ]
  },
  {
   "cell_type": "code",
   "execution_count": 259,
   "id": "6cb05168",
   "metadata": {},
   "outputs": [
    {
     "data": {
      "text/plain": [
       "809892820"
      ]
     },
     "execution_count": 259,
     "metadata": {},
     "output_type": "execute_result"
    }
   ],
   "source": [
    "# This is the terrible way you filter\n",
    "df[df['continent'] == 'Africa']['population'].sum()"
   ]
  },
  {
   "cell_type": "code",
   "execution_count": 260,
   "id": "720ef7bc",
   "metadata": {},
   "outputs": [
    {
     "data": {
      "text/plain": [
       "continent\n",
       "Africa         527326582\n",
       "Asia          3706568274\n",
       "Europe         406931644\n",
       "N. America     413123269\n",
       "S. America     301330453\n",
       "Name: population, dtype: int64"
      ]
     },
     "execution_count": 260,
     "metadata": {},
     "output_type": "execute_result"
    }
   ],
   "source": [
    "# 1. Filtering\n",
    "# 2. Grouping\n",
    "# 3. Grabbing a column\n",
    "# 4. Doing some sort of thing with that column\n",
    "\n",
    "# What is the total population in each continent\n",
    "# living in countries with a population over 20 million\n",
    "# 1. filter for population over 20 million population\n",
    "# 2. put in groups based on continent\n",
    "# 3. Grab the 'population' column\n",
    "# 4. Add it all up\n",
    "\n",
    "(\n",
    "df\n",
    "    [df['population'] > 20000000]\n",
    "    .groupby('continent')\n",
    "    ['population']\n",
    "    .sum()\n",
    ")"
   ]
  },
  {
   "cell_type": "code",
   "execution_count": 261,
   "id": "364eb9c4",
   "metadata": {},
   "outputs": [
    {
     "data": {
      "text/plain": [
       "<Axes: ylabel='continent'>"
      ]
     },
     "execution_count": 261,
     "metadata": {},
     "output_type": "execute_result"
    },
    {
     "data": {
      "image/png": "[encoded data removed]",
      "text/plain": [
       "<Figure size 640x480 with 1 Axes>"
      ]
     },
     "metadata": {},
     "output_type": "display_data"
    }
   ],
   "source": [
    "# 1. Filtering\n",
    "# 2. Grouping\n",
    "# 3. Grabbing a column\n",
    "# 4. Doing some sort of thing with that column\n",
    "\n",
    "# What is the total population in each continent living in countries with a population over 20 million\n",
    "# 1. filter for population over 20 million population\n",
    "# 2. put in groups based on continent\n",
    "# 3. Grab the 'population' column\n",
    "# 4. Add it all up\n",
    "\n",
    "(\n",
    "df\n",
    "    [df['population'] > 20000000]\n",
    "    .groupby('continent')\n",
    "    ['population']\n",
    "    .sum()\n",
    ").sort_values().plot(kind='barh')"
   ]
  },
  {
   "cell_type": "code",
   "execution_count": 262,
   "id": "7e881510",
   "metadata": {},
   "outputs": [
    {
     "data": {
      "text/plain": [
       "<Axes: ylabel='continent'>"
      ]
     },
     "execution_count": 262,
     "metadata": {},
     "output_type": "execute_result"
    },
    {
     "data": {
      "image/png": "[encoded data removed]",
      "text/plain": [
       "<Figure size 640x480 with 1 Axes>"
      ]
     },
     "metadata": {},
     "output_type": "display_data"
    }
   ],
   "source": [
    "(\n",
    "df\n",
    "    [df['population'] > 20000000]\n",
    "    .groupby('continent')\n",
    "    ['population']\n",
    "    .sum()\n",
    "    .sort_values()\n",
    "    .plot(kind='barh')\n",
    ")"
   ]
  },
  {
   "cell_type": "code",
   "execution_count": 263,
   "id": "7baa001f",
   "metadata": {},
   "outputs": [
    {
     "name": "stdout",
     "output_type": "stream",
     "text": [
      "Requirement already satisfied: matplotlib in /Users/soma/.pyenv/versions/3.10.13/lib/python3.10/site-packages (3.8.3)\n",
      "Requirement already satisfied: fonttools>=4.22.0 in /Users/soma/.pyenv/versions/3.10.13/lib/python3.10/site-packages (from matplotlib) (4.49.0)\n",
      "Requirement already satisfied: python-dateutil>=2.7 in /Users/soma/.pyenv/versions/3.10.13/lib/python3.10/site-packages (from matplotlib) (2.9.0.post0)\n",
      "Requirement already satisfied: pyparsing>=2.3.1 in /Users/soma/.pyenv/versions/3.10.13/lib/python3.10/site-packages (from matplotlib) (3.1.1)\n",
      "Requirement already satisfied: pillow>=8 in /Users/soma/.pyenv/versions/3.10.13/lib/python3.10/site-packages (from matplotlib) (10.3.0)\n",
      "Requirement already satisfied: kiwisolver>=1.3.1 in /Users/soma/.pyenv/versions/3.10.13/lib/python3.10/site-packages (from matplotlib) (1.4.5)\n",
      "Requirement already satisfied: packaging>=20.0 in /Users/soma/.pyenv/versions/3.10.13/lib/python3.10/site-packages (from matplotlib) (24.0)\n",
      "Requirement already satisfied: contourpy>=1.0.1 in /Users/soma/.pyenv/versions/3.10.13/lib/python3.10/site-packages (from matplotlib) (1.2.0)\n",
      "Requirement already satisfied: numpy<2,>=1.21 in /Users/soma/.pyenv/versions/3.10.13/lib/python3.10/site-packages (from matplotlib) (1.26.4)\n",
      "Requirement already satisfied: cycler>=0.10 in /Users/soma/.pyenv/versions/3.10.13/lib/python3.10/site-packages (from matplotlib) (0.12.1)\n",
      "Requirement already satisfied: six>=1.5 in /Users/soma/.pyenv/versions/3.10.13/lib/python3.10/site-packages (from python-dateutil>=2.7->matplotlib) (1.16.0)\n",
      "\n",
      "\u001b[1m[\u001b[0m\u001b[34;49mnotice\u001b[0m\u001b[1;39;49m]\u001b[0m\u001b[39;49m A new release of pip is available: \u001b[0m\u001b[31;49m23.0.1\u001b[0m\u001b[39;49m -> \u001b[0m\u001b[32;49m24.3.1\u001b[0m\n",
      "\u001b[1m[\u001b[0m\u001b[34;49mnotice\u001b[0m\u001b[1;39;49m]\u001b[0m\u001b[39;49m To update, run: \u001b[0m\u001b[32;49mpip install --upgrade pip\u001b[0m\n"
     ]
    }
   ],
   "source": [
    "# \"matplotlib is not installed\"\n",
    "!pip install matplotlib"
   ]
  },
  {
   "cell_type": "markdown",
   "id": "290292f1",
   "metadata": {},
   "source": [
    "### Save your cleaned CSV"
   ]
  },
  {
   "cell_type": "code",
   "execution_count": 267,
   "id": "60cec9ce",
   "metadata": {},
   "outputs": [
    {
     "data": {
      "text/html": [
       "<div>\n",
       "<style scoped>\n",
       "    .dataframe tbody tr th:only-of-type {\n",
       "        vertical-align: middle;\n",
       "    }\n",
       "\n",
       "    .dataframe tbody tr th {\n",
       "        vertical-align: top;\n",
       "    }\n",
       "\n",
       "    .dataframe thead th {\n",
       "        text-align: right;\n",
       "    }\n",
       "</style>\n",
       "<table border=\"1\" class=\"dataframe\">\n",
       "  <thead>\n",
       "    <tr style=\"text-align: right;\">\n",
       "      <th></th>\n",
       "      <th>country</th>\n",
       "      <th>continent</th>\n",
       "      <th>life_expectancy</th>\n",
       "      <th>population</th>\n",
       "      <th>gdp</th>\n",
       "      <th>gdp_per_capita</th>\n",
       "    </tr>\n",
       "  </thead>\n",
       "  <tbody>\n",
       "    <tr>\n",
       "      <th>0</th>\n",
       "      <td>Afghanistan</td>\n",
       "      <td>Asia</td>\n",
       "      <td>54.863</td>\n",
       "      <td>22856302</td>\n",
       "      <td>15153728226</td>\n",
       "      <td>663.0</td>\n",
       "    </tr>\n",
       "    <tr>\n",
       "      <th>1</th>\n",
       "      <td>Albania</td>\n",
       "      <td>Europe</td>\n",
       "      <td>74.200</td>\n",
       "      <td>3071856</td>\n",
       "      <td>12886435920</td>\n",
       "      <td>4195.0</td>\n",
       "    </tr>\n",
       "    <tr>\n",
       "      <th>2</th>\n",
       "      <td>Algeria</td>\n",
       "      <td>Africa</td>\n",
       "      <td>68.963</td>\n",
       "      <td>30533827</td>\n",
       "      <td>155661450046</td>\n",
       "      <td>5098.0</td>\n",
       "    </tr>\n",
       "    <tr>\n",
       "      <th>3</th>\n",
       "      <td>Angola</td>\n",
       "      <td>Africa</td>\n",
       "      <td>45.234</td>\n",
       "      <td>13926373</td>\n",
       "      <td>34063908358</td>\n",
       "      <td>2446.0</td>\n",
       "    </tr>\n",
       "    <tr>\n",
       "      <th>4</th>\n",
       "      <td>Antigua and Barbuda</td>\n",
       "      <td>N. America</td>\n",
       "      <td>73.544</td>\n",
       "      <td>77656</td>\n",
       "      <td>989182128</td>\n",
       "      <td>12738.0</td>\n",
       "    </tr>\n",
       "  </tbody>\n",
       "</table>\n",
       "</div>"
      ],
      "text/plain": [
       "               country   continent  life_expectancy  population           gdp  \\\n",
       "0          Afghanistan        Asia           54.863    22856302   15153728226   \n",
       "1              Albania      Europe           74.200     3071856   12886435920   \n",
       "2              Algeria      Africa           68.963    30533827  155661450046   \n",
       "3               Angola      Africa           45.234    13926373   34063908358   \n",
       "4  Antigua and Barbuda  N. America           73.544       77656     989182128   \n",
       "\n",
       "   gdp_per_capita  \n",
       "0           663.0  \n",
       "1          4195.0  \n",
       "2          5098.0  \n",
       "3          2446.0  \n",
       "4         12738.0  "
      ]
     },
     "execution_count": 267,
     "metadata": {},
     "output_type": "execute_result"
    }
   ],
   "source": [
    "df.to_csv(\"edited.csv\", index=False)\n",
    "df.head()"
   ]
  },
  {
   "cell_type": "code",
   "execution_count": 264,
   "id": "b244b85a",
   "metadata": {},
   "outputs": [
    {
     "data": {
      "text/html": [
       "<div>\n",
       "<style scoped>\n",
       "    .dataframe tbody tr th:only-of-type {\n",
       "        vertical-align: middle;\n",
       "    }\n",
       "\n",
       "    .dataframe tbody tr th {\n",
       "        vertical-align: top;\n",
       "    }\n",
       "\n",
       "    .dataframe thead th {\n",
       "        text-align: right;\n",
       "    }\n",
       "</style>\n",
       "<table border=\"1\" class=\"dataframe\">\n",
       "  <thead>\n",
       "    <tr style=\"text-align: right;\">\n",
       "      <th></th>\n",
       "      <th>language</th>\n",
       "      <th>phrase</th>\n",
       "    </tr>\n",
       "  </thead>\n",
       "  <tbody>\n",
       "    <tr>\n",
       "      <th>0</th>\n",
       "      <td>English</td>\n",
       "      <td>I am a pencil</td>\n",
       "    </tr>\n",
       "    <tr>\n",
       "      <th>1</th>\n",
       "      <td>French</td>\n",
       "      <td>Je suis un crayon</td>\n",
       "    </tr>\n",
       "    <tr>\n",
       "      <th>2</th>\n",
       "      <td>German</td>\n",
       "      <td>Ich bin ein Bleistift</td>\n",
       "    </tr>\n",
       "    <tr>\n",
       "      <th>3</th>\n",
       "      <td>Swedish</td>\n",
       "      <td>Jag är en penna</td>\n",
       "    </tr>\n",
       "    <tr>\n",
       "      <th>4</th>\n",
       "      <td>Chinese</td>\n",
       "      <td>我是铅笔</td>\n",
       "    </tr>\n",
       "    <tr>\n",
       "      <th>5</th>\n",
       "      <td>Russian</td>\n",
       "      <td>Я карандаш</td>\n",
       "    </tr>\n",
       "    <tr>\n",
       "      <th>6</th>\n",
       "      <td>Japanese</td>\n",
       "      <td>私は鉛筆です</td>\n",
       "    </tr>\n",
       "    <tr>\n",
       "      <th>7</th>\n",
       "      <td>German</td>\n",
       "      <td>Ich bin ein großer Bleistift</td>\n",
       "    </tr>\n",
       "    <tr>\n",
       "      <th>8</th>\n",
       "      <td>French</td>\n",
       "      <td>Je suis déjà allé à l'hôpital</td>\n",
       "    </tr>\n",
       "  </tbody>\n",
       "</table>\n",
       "</div>"
      ],
      "text/plain": [
       "   language                         phrase\n",
       "0   English                  I am a pencil\n",
       "1    French              Je suis un crayon\n",
       "2    German          Ich bin ein Bleistift\n",
       "3   Swedish                Jag är en penna\n",
       "4   Chinese                           我是铅笔\n",
       "5   Russian                     Я карандаш\n",
       "6  Japanese                         私は鉛筆です\n",
       "7    German   Ich bin ein großer Bleistift\n",
       "8    French  Je suis déjà allé à l'hôpital"
      ]
     },
     "execution_count": 264,
     "metadata": {},
     "output_type": "execute_result"
    }
   ],
   "source": [
    "pd.read_excel(\"encoding/encoded-excel.xlsx\")"
   ]
  },
  {
   "cell_type": "code",
   "execution_count": 265,
   "id": "5be793e3",
   "metadata": {},
   "outputs": [
    {
     "data": {
      "text/html": [
       "<div>\n",
       "<style scoped>\n",
       "    .dataframe tbody tr th:only-of-type {\n",
       "        vertical-align: middle;\n",
       "    }\n",
       "\n",
       "    .dataframe tbody tr th {\n",
       "        vertical-align: top;\n",
       "    }\n",
       "\n",
       "    .dataframe thead th {\n",
       "        text-align: right;\n",
       "    }\n",
       "</style>\n",
       "<table border=\"1\" class=\"dataframe\">\n",
       "  <thead>\n",
       "    <tr style=\"text-align: right;\">\n",
       "      <th></th>\n",
       "      <th>language</th>\n",
       "      <th>phrase</th>\n",
       "    </tr>\n",
       "  </thead>\n",
       "  <tbody>\n",
       "    <tr>\n",
       "      <th>0</th>\n",
       "      <td>English</td>\n",
       "      <td>I am a pencil</td>\n",
       "    </tr>\n",
       "    <tr>\n",
       "      <th>1</th>\n",
       "      <td>French</td>\n",
       "      <td>Je suis un crayon</td>\n",
       "    </tr>\n",
       "    <tr>\n",
       "      <th>2</th>\n",
       "      <td>German</td>\n",
       "      <td>Ich bin ein Bleistift</td>\n",
       "    </tr>\n",
       "    <tr>\n",
       "      <th>3</th>\n",
       "      <td>Swedish</td>\n",
       "      <td>Jag är en penna</td>\n",
       "    </tr>\n",
       "    <tr>\n",
       "      <th>4</th>\n",
       "      <td>Chinese</td>\n",
       "      <td>我是铅笔</td>\n",
       "    </tr>\n",
       "    <tr>\n",
       "      <th>5</th>\n",
       "      <td>Russian</td>\n",
       "      <td>Я карандаш</td>\n",
       "    </tr>\n",
       "    <tr>\n",
       "      <th>6</th>\n",
       "      <td>Japanese</td>\n",
       "      <td>私は鉛筆です</td>\n",
       "    </tr>\n",
       "    <tr>\n",
       "      <th>7</th>\n",
       "      <td>German</td>\n",
       "      <td>Ich bin ein großer Bleistift</td>\n",
       "    </tr>\n",
       "    <tr>\n",
       "      <th>8</th>\n",
       "      <td>French</td>\n",
       "      <td>Je suis déjà allé à l'hôpital</td>\n",
       "    </tr>\n",
       "  </tbody>\n",
       "</table>\n",
       "</div>"
      ],
      "text/plain": [
       "   language                         phrase\n",
       "0   English                  I am a pencil\n",
       "1    French              Je suis un crayon\n",
       "2    German          Ich bin ein Bleistift\n",
       "3   Swedish                Jag är en penna\n",
       "4   Chinese                           我是铅笔\n",
       "5   Russian                     Я карандаш\n",
       "6  Japanese                         私は鉛筆です\n",
       "7    German   Ich bin ein großer Bleistift\n",
       "8    French  Je suis déjà allé à l'hôpital"
      ]
     },
     "execution_count": 265,
     "metadata": {},
     "output_type": "execute_result"
    }
   ],
   "source": [
    "pd.read_csv(\"encoding/encoded-commas.csv\")"
   ]
  },
  {
   "cell_type": "code",
   "execution_count": null,
   "id": "3aa5f195",
   "metadata": {},
   "outputs": [],
   "source": []
  },
  {
   "cell_type": "code",
   "execution_count": null,
   "id": "26ee1cfc",
   "metadata": {},
   "outputs": [],
   "source": []
  },
  {
   "cell_type": "code",
   "execution_count": null,
   "id": "2bf55c50",
   "metadata": {},
   "outputs": [],
   "source": []
  }
 ],
 "metadata": {
  "kernelspec": {
   "display_name": "Python 3 (ipykernel)",
   "language": "python",
   "name": "python3"
  },
  "language_info": {
   "codemirror_mode": {
    "name": "ipython",
    "version": 3
   },
   "file_extension": ".py",
   "mimetype": "text/x-python",
   "name": "python",
   "nbconvert_exporter": "python",
   "pygments_lexer": "ipython3",
   "version": "3.11.8"
  }
 },
 "nbformat": 4,
 "nbformat_minor": 5
}
